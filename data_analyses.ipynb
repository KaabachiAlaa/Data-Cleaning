{
 "cells": [
  {
   "cell_type": "markdown",
   "id": "710f6557-cc09-4007-a733-45a918de8085",
   "metadata": {},
   "source": [
    "### Reading In Files "
   ]
  },
  {
   "cell_type": "code",
   "execution_count": null,
   "id": "33ba1145-81b6-4c64-8c20-5ab1735b630d",
   "metadata": {},
   "outputs": [],
   "source": [
    "import pandas as pd\n",
    "import numpy as np\n",
    "import matplotlib.pyplot as plt\n",
    "import seaborn as sns\n",
    "from scipy import stats\n",
    "import matplotlib.ticker as ticker\n",
    "import plotly.express as px\n"
   ]
  },
  {
   "cell_type": "code",
   "execution_count": null,
   "id": "da206485-78ff-4ccc-a152-4e7ed018b9d0",
   "metadata": {},
   "outputs": [],
   "source": [
    "# df_trimester1=pd.read_csv(r\"C:\\Users\\R I B\\Desktop\\PFE\\inventory_trimester_1.csv\")\n",
    "# df_trimester2=pd.read_csv(r\"C:\\Users\\R I B\\Desktop\\PFE\\inventory_trimester_2.csv\")\n",
    "# df_trimester3=pd.read_csv(r\"C:\\Users\\R I B\\Desktop\\PFE\\inventory_trimester_3.csv\")\n",
    "# df_trimester4=pd.read_csv(r\"C:\\Users\\R I B\\Desktop\\PFE\\inventory_trimester_4.csv\")\n",
    "df_trimester1=pd.read_csv(r\"C:\\Users\\alaak\\Downloads\\inventory_semester_1.csv\")\n",
    "df_trimester2=pd.read_csv(r\"C:\\Users\\alaak\\Downloads\\inventory_semester_2.csv\")\n",
    "df_trimester3=pd.read_csv(r\"C:\\Users\\alaak\\Downloads\\inventory_semester_3.csv\")\n",
    "df_trimester4=pd.read_csv(r\"C:\\Users\\alaak\\Downloads\\inventory_semester_4.csv\")\n"
   ]
  },
  {
   "cell_type": "markdown",
   "id": "4ff53135-7474-4c2b-a0b7-2194a7fd6df0",
   "metadata": {},
   "source": [
    "### Check for Duplicates"
   ]
  },
  {
   "cell_type": "code",
   "execution_count": null,
   "id": "1b56a8a9-754e-4e3e-875c-b67cff96864f",
   "metadata": {},
   "outputs": [],
   "source": [
    "print(df_trimester1.duplicated().sum())\n",
    "print(df_trimester2.duplicated().sum())\n",
    "print(df_trimester3.duplicated().sum())\n",
    "print(df_trimester4.duplicated().sum())\n"
   ]
  },
  {
   "cell_type": "markdown",
   "id": "a2060141-8bdf-472f-86d4-cc6d01685076",
   "metadata": {},
   "source": [
    "### Remove Duplicates"
   ]
  },
  {
   "cell_type": "code",
   "execution_count": null,
   "id": "000a00c5-419e-4075-975b-04eb566d440a",
   "metadata": {},
   "outputs": [],
   "source": [
    "df_trimester1=df_trimester1.drop_duplicates()\n",
    "df_trimester2=df_trimester2.drop_duplicates()\n",
    "df_trimester3=df_trimester3.drop_duplicates()\n",
    "df_trimester4=df_trimester4.drop_duplicates()\n",
    "print(df_trimester1.duplicated().sum())\n",
    "print(df_trimester2.duplicated().sum())\n",
    "print(df_trimester3.duplicated().sum())\n",
    "print(df_trimester4.duplicated().sum())"
   ]
  },
  {
   "cell_type": "markdown",
   "id": "6e66fccf",
   "metadata": {},
   "source": [
    "### Merge The Data Frames"
   ]
  },
  {
   "cell_type": "code",
   "execution_count": null,
   "id": "70808180",
   "metadata": {},
   "outputs": [],
   "source": [
    "df=pd.concat([df_trimester1, df_trimester2, df_trimester3, df_trimester4], axis=0)"
   ]
  },
  {
   "cell_type": "markdown",
   "id": "905c3bfa-f857-43fe-a562-e184f9a8b6ce",
   "metadata": {},
   "source": [
    "### Check the first few rows"
   ]
  },
  {
   "cell_type": "code",
   "execution_count": null,
   "id": "e567b3e5-c5e3-46e3-a358-3fe665159a79",
   "metadata": {},
   "outputs": [],
   "source": [
    "df.head()"
   ]
  },
  {
   "cell_type": "markdown",
   "id": "b9dfa884-851d-4cea-99cb-e9f4453c6725",
   "metadata": {},
   "source": [
    "### Get the Summary of The DataFrame"
   ]
  },
  {
   "cell_type": "code",
   "execution_count": null,
   "id": "903c990d-45f9-4aaa-acf3-920ee9f4d99c",
   "metadata": {},
   "outputs": [],
   "source": [
    "df.info()"
   ]
  },
  {
   "cell_type": "markdown",
   "id": "bf361634-aa4a-47f0-81ed-37ddd46ff2c1",
   "metadata": {},
   "source": [
    "### Check the Nulls"
   ]
  },
  {
   "cell_type": "code",
   "execution_count": null,
   "id": "b2ba09fd-2def-4f31-98cf-fa27e8567d40",
   "metadata": {
    "scrolled": true
   },
   "outputs": [],
   "source": [
    "print(df.isnull().sum())"
   ]
  },
  {
   "cell_type": "markdown",
   "id": "b6230eeb-cd53-4ed4-a8e9-bac68406083f",
   "metadata": {},
   "source": [
    "### Check the sold_quantity,returned_quantity,damaged_quantity Columns"
   ]
  },
  {
   "cell_type": "code",
   "execution_count": null,
   "id": "f012d580-957c-43d4-8e7a-08cf19278b50",
   "metadata": {},
   "outputs": [],
   "source": [
    "print(df[\"sold_quantity\"].value_counts(dropna=False))"
   ]
  },
  {
   "cell_type": "code",
   "execution_count": null,
   "id": "62f01ee9-af19-4374-8257-7da53fb7ffbc",
   "metadata": {},
   "outputs": [],
   "source": [
    "print(df[\"returned_quantity\"].value_counts(dropna=False))\n"
   ]
  },
  {
   "cell_type": "code",
   "execution_count": null,
   "id": "debf6423-5207-4409-9f46-8e7f902e1bb8",
   "metadata": {},
   "outputs": [],
   "source": [
    "print(df[\"damaged_quantity\"].value_counts(dropna=False))"
   ]
  },
  {
   "cell_type": "markdown",
   "id": "9bfff6bc-88e3-4e15-835f-08047eb312fb",
   "metadata": {},
   "source": [
    "### Replace \"unknown\" with NaN"
   ]
  },
  {
   "cell_type": "code",
   "execution_count": null,
   "id": "396121cc-c0b8-44e7-b56a-fa1a527a9501",
   "metadata": {},
   "outputs": [],
   "source": [
    "df_trimester1[[\"sold_quantity\", \"returned_quantity\", \"damaged_quantity\"]] = df_trimester1[[\"sold_quantity\", \"returned_quantity\", \"damaged_quantity\"]].replace([\"unknown\",\" \",0], np.nan)\n",
    "df_trimester2[[\"sold_quantity\", \"returned_quantity\", \"damaged_quantity\"]] = df_trimester2[[\"sold_quantity\", \"returned_quantity\", \"damaged_quantity\"]].replace([\"unknown\",\" \",0], np.nan)\n",
    "df_trimester3[[\"sold_quantity\", \"returned_quantity\", \"damaged_quantity\"]] = df_trimester3[[\"sold_quantity\", \"returned_quantity\", \"damaged_quantity\"]].replace([\"unknown\",\" \",0], np.nan)\n",
    "df_trimester4[[\"sold_quantity\", \"returned_quantity\", \"damaged_quantity\"]] = df_trimester4[[\"sold_quantity\", \"returned_quantity\", \"damaged_quantity\"]].replace([\"unknown\",\" \",0], np.nan)\n",
    "df[[\"sold_quantity\", \"returned_quantity\", \"damaged_quantity\"]] = df[[\"sold_quantity\", \"returned_quantity\", \"damaged_quantity\"]].replace([\"unknown\",\" \",0], np.nan)"
   ]
  },
  {
   "cell_type": "code",
   "execution_count": null,
   "id": "1cc08575-74bc-483e-b739-e062a24c3976",
   "metadata": {},
   "outputs": [],
   "source": [
    "print(df[\"sold_quantity\"].value_counts(dropna=False))"
   ]
  },
  {
   "cell_type": "code",
   "execution_count": null,
   "id": "669b0a83-293f-4e25-92c1-e63a148e1c5a",
   "metadata": {},
   "outputs": [],
   "source": [
    "print(df[\"returned_quantity\"].value_counts(dropna=False))"
   ]
  },
  {
   "cell_type": "code",
   "execution_count": null,
   "id": "c8b5585f-7fff-43c9-ad3d-e1698842bec5",
   "metadata": {},
   "outputs": [],
   "source": [
    "print(df[\"damaged_quantity\"].value_counts(dropna=False))"
   ]
  },
  {
   "cell_type": "markdown",
   "id": "967420f9-2f84-4b46-a1ee-2e554c6170df",
   "metadata": {},
   "source": [
    "### Replace the NaN with the average value of the trimester for The column \"production_quantity\""
   ]
  },
  {
   "cell_type": "code",
   "execution_count": null,
   "id": "7f12b1ac-5d4c-4810-8923-d4f09f33a791",
   "metadata": {},
   "outputs": [],
   "source": [
    "import numpy as np\n",
    "import pandas as pd\n",
    "\n",
    "# Columns to be filled\n",
    "columns_to_fill = ['sold_quantity', 'returned_quantity', 'damaged_quantity']\n",
    "\n",
    "for col in columns_to_fill:\n",
    "    for trimester_df in [df_trimester1, df_trimester2, df_trimester3, df_trimester4 ,df]:\n",
    "        # Ensure 'production_quantity' and the current column are numeric\n",
    "        trimester_df['production_quantity'] = pd.to_numeric(trimester_df['production_quantity'], errors='coerce')\n",
    "        trimester_df[col] = pd.to_numeric(trimester_df[col], errors='coerce')\n",
    "\n",
    "        # Compute the mean ratio before replacing values\n",
    "        ratio_mean = (trimester_df[col] / trimester_df['production_quantity']).mean(skipna=True)\n",
    "        \n",
    "        # Check for any zero production quantity to avoid division by zero\n",
    "        if np.any(trimester_df['production_quantity'] == 0):\n",
    "            print(f\"Warning: Zero production quantities found in {col} for trimester.\")\n",
    "\n",
    "        # Replace NaN and 0 values with the computed ratio\n",
    "        mask = (trimester_df[col].isna()) | (trimester_df[col] == 0)\n",
    "        trimester_df.loc[mask, col] = (\n",
    "            (trimester_df.loc[mask, 'production_quantity'] * ratio_mean).astype(int)\n",
    "        )\n",
    "\n",
    "        # Convert to integer after all replacements (if necessary)\n",
    "        trimester_df[col] = trimester_df[col].astype(int)\n",
    "\n",
    "# Checking value counts after replacements\n",
    "print(df[\"sold_quantity\"].value_counts(dropna=False))\n"
   ]
  },
  {
   "cell_type": "markdown",
   "id": "994f327b-c3ae-4d52-ba04-bbc54789382f",
   "metadata": {},
   "source": [
    "### Create unsold product column"
   ]
  },
  {
   "cell_type": "code",
   "execution_count": null,
   "id": "6e9c533c-d82b-45b3-b48d-742736a71bfb",
   "metadata": {},
   "outputs": [],
   "source": [
    "df['unsold_quantity'] = df['production_quantity'] - (df['damaged_quantity'] + df['returned_quantity'] + df['sold_quantity'])\n",
    "df_trimester1['unsold_quantity'] = df_trimester1['production_quantity'] - (df_trimester1['damaged_quantity'] + df_trimester1['returned_quantity'] + df_trimester1['sold_quantity'])\n",
    "df_trimester2['unsold_quantity'] = df_trimester2['production_quantity'] - (df_trimester2['damaged_quantity'] + df_trimester2['returned_quantity'] + df_trimester2['sold_quantity'])\n",
    "df_trimester3['unsold_quantity'] = df_trimester3['production_quantity'] - (df_trimester3['damaged_quantity'] + df_trimester3['returned_quantity'] + df_trimester3['sold_quantity'])\n",
    "df_trimester4['unsold_quantity'] = df_trimester4['production_quantity'] - (df_trimester4['damaged_quantity'] + df_trimester4['returned_quantity'] + df_trimester4['sold_quantity'])"
   ]
  },
  {
   "cell_type": "markdown",
   "id": "a42980c9-38a4-40bc-927a-297b82c8368e",
   "metadata": {},
   "source": [
    "### Check the new column"
   ]
  },
  {
   "cell_type": "code",
   "execution_count": null,
   "id": "9b445ef4-b073-45a6-ac9e-805722a18052",
   "metadata": {},
   "outputs": [],
   "source": [
    "df.head()"
   ]
  },
  {
   "cell_type": "markdown",
   "id": "7dda35e8-2839-418a-971b-64de8c44c5fd",
   "metadata": {},
   "source": [
    "### Check the \"product_name\" values"
   ]
  },
  {
   "cell_type": "code",
   "execution_count": null,
   "id": "e0bdd7f9-4385-48b3-800f-f46e0a34a0a8",
   "metadata": {},
   "outputs": [],
   "source": [
    "df[\"product_name\"].value_counts()"
   ]
  },
  {
   "cell_type": "markdown",
   "id": "b9a79dfc-0bb9-49f7-be15-597c830c273f",
   "metadata": {},
   "source": [
    "### Fix incorrect Syntax "
   ]
  },
  {
   "cell_type": "code",
   "execution_count": null,
   "id": "b5637bc5",
   "metadata": {},
   "outputs": [],
   "source": [
    "print(df.columns[df.columns.duplicated()])  # Check duplicate columns\n",
    "print(df_trimester1.columns[df_trimester1.columns.duplicated()])"
   ]
  },
  {
   "cell_type": "code",
   "execution_count": null,
   "id": "ed07b6ba-579e-4101-afd3-84c62d7df207",
   "metadata": {},
   "outputs": [],
   "source": [
    "df_trimester1.head()"
   ]
  },
  {
   "cell_type": "code",
   "execution_count": null,
   "id": "dcd05a1a-55e2-4b71-b7c9-8280d1bd7357",
   "metadata": {},
   "outputs": [],
   "source": [
    "corrections = {\n",
    "    \"Yaourt Brassé Fraise Ba@ane 70g\": \"Yaourt Brassé Fraise Banane 70g\",\n",
    "    \"Vit'up Max@Vanille 260g\": \"Vit'up Max Vanille 260g\",\n",
    "    \"Yaourt aux Fruits Secs @00g\": \"Yaourt aux Fruits Secs 100g\",\n",
    "    \"Yaourt aux Fruits Mixés Mangue 10@g\": \"Yaourt aux Fruits Mixés Mangue 100g\",\n",
    "    \"Yaou@t aux Fruits Pêche Abricot 100g\": \"Yaourt aux Fruits Pêche Abricot 100g\",\n",
    "    \"Yaourt Brassé @iscuit-Vanille 70g\": \"Yaourt Brassé Biscuit-Vanille 70g\",\n",
    "    \"Yaourt Aromatisé@Vanille 100g\": \"Yaourt Aromatisé Vanille 100g\",\n",
    "    \"Grecos Nature Su@ré\": \"Grecos Nature Sucré\",\n",
    "    \"Vitupti Frais@ 100g\": \"Vitupti Fraise 100g\",\n",
    "    \"Yaourt aux Fruits Pêche Abricot 10@g\": \"Yaourt aux Fruits Pêche Abricot 100g\",\n",
    "    \"Yaourt Aromatise Fraise 100g\": \"Yaourt Aromatisé Fraise 100g\",\n",
    "    \"Yaourt Aromatise Vanille 100g\": \"Yaourt Aromatisé Vanille 100g\",\n",
    "    \"Yaourt Aromatise Noix de coco 100g\": \"Yaourt Aromatisé Noix de coco 100g\",\n",
    "    \"Yaourt Aromatise Banane 100g\": \"Yaourt Aromatisé Banane 100g\",\n",
    "    \"vitup Vanille 160g\": \"Vit'up Vanille 160g\",\n",
    "    \"vitup Max Vanille 260g\": \"Vit'up Max Vanille 260g\",\n",
    "    \"vitup Pinacolada 160g\": \"Vit'up Pinacolada 160g\",\n",
    "    \"vitup Pinacolada 260g\": \"Vit'up Pinacolada 260g\",\n",
    "    \"vitup Fraise 160g\": \"Vit'up Fraise 160g\",\n",
    "    \"vitup Max Fraise 260g\": \"Vit'up Max Fraise 260g\"\n",
    "}\n",
    "df[\"product_name\"] = df[\"product_name\"].replace(corrections)\n",
    "df_trimester1[\"product_name\"] = df_trimester1[\"product_name\"].replace(corrections)\n",
    "df_trimester2[\"product_name\"] = df_trimester2[\"product_name\"].replace(corrections)\n",
    "df_trimester3[\"product_name\"] = df_trimester3[\"product_name\"].replace(corrections)\n",
    "df_trimester4[\"product_name\"] = df_trimester4[\"product_name\"].replace(corrections)\n"
   ]
  },
  {
   "cell_type": "code",
   "execution_count": null,
   "id": "60a05e41-738e-4427-8959-d14f71a18dba",
   "metadata": {},
   "outputs": [],
   "source": [
    "df[\"product_name\"].value_counts()"
   ]
  },
  {
   "cell_type": "markdown",
   "id": "af94a5a1-238e-4395-89d2-e97ea23d340f",
   "metadata": {},
   "source": [
    "### Remove Erroneous Values"
   ]
  },
  {
   "cell_type": "markdown",
   "id": "6540e4e8",
   "metadata": {},
   "source": [
    "After visiting the factory and gathering information on how the production machines operate, we found that for the most common yogurt type, there are four machines, each with a maximum production capacity of 80,000 units. Therefore, we must remove any production line with a quantity exceeding 360,000 units."
   ]
  },
  {
   "cell_type": "code",
   "execution_count": null,
   "id": "2350e6b8-66b5-4277-bbcf-8146870f124b",
   "metadata": {},
   "outputs": [],
   "source": [
    "df_trimester1.head()\n"
   ]
  },
  {
   "cell_type": "code",
   "execution_count": null,
   "id": "e8c30b65",
   "metadata": {},
   "outputs": [],
   "source": [
    "df.describe()"
   ]
  },
  {
   "cell_type": "code",
   "execution_count": null,
   "id": "8fcad255-93ed-433c-b04f-5ce062bdb9eb",
   "metadata": {},
   "outputs": [],
   "source": [
    "sales_data = {\n",
    "    \"Trimester\": [\"T1\", \"T2\", \"T3\", \"T4\"],\n",
    "    \"Total Sales\": [\n",
    "        df_trimester1[\"sold_quantity\"].sum(),\n",
    "        df_trimester2[\"sold_quantity\"].sum(),\n",
    "        df_trimester3[\"sold_quantity\"].sum(),  # ✅ Fixed incorrect trimester reference\n",
    "        df_trimester4[\"sold_quantity\"].sum()   # ✅ Fixed incorrect trimester reference\n",
    "    ]\n",
    "}\n",
    "\n",
    "# Convert to DataFrame\n",
    "df_sales = pd.DataFrame(sales_data)\n",
    "\n",
    "# Create interactive Plotly bar chart\n",
    "fig = px.bar(\n",
    "    df_sales, \n",
    "    x=\"Trimester\", \n",
    "    y=\"Total Sales\", \n",
    "    text=df_sales[\"Total Sales\"].apply(lambda x: f\"{x/1e6:.1f}M\"),  # Formatting in millions\n",
    "    labels={\"Total Sales\": \"Total Sold Quantity\"},\n",
    "    title=\"Total Sales per Trimester\",\n",
    "    color=\"Total Sales\",  # Color based on sales amount\n",
    "    color_continuous_scale=\"Blues\"  # Custom color scale\n",
    ")\n",
    "\n",
    "# Format y-axis to display in millions\n",
    "fig.update_yaxes(\n",
    "    tickformat=\".1s\", \n",
    "    title_text=\"Total Sold Quantity\"\n",
    ")\n",
    "\n",
    "# Adjust text label position\n",
    "fig.update_traces(textposition=\"outside\")\n",
    "\n",
    "# Show the figure\n",
    "fig.show()"
   ]
  },
  {
   "cell_type": "code",
   "execution_count": null,
   "id": "af380c56",
   "metadata": {},
   "outputs": [],
   "source": [
    "def get_top5(df, trimester_name):\n",
    "    top5 = df.groupby(\"product_name\")[\"sold_quantity\"].sum().nlargest(5).reset_index()\n",
    "    top5[\"trimester\"] = trimester_name  # Add trimester name column\n",
    "    return top5\n",
    "\n",
    "# Get top 5 products from each trimester\n",
    "df_top5_s1 = get_top5(df_trimester1, \"T1\")\n",
    "df_top5_s2 = get_top5(df_trimester2, \"T2\")\n",
    "df_top5_s3 = get_top5(df_trimester3, \"T3\")\n",
    "df_top5_s4 = get_top5(df_trimester4, \"T4\")\n",
    "\n",
    "# Combine data\n",
    "df_top5 = pd.concat([df_top5_s1, df_top5_s2, df_top5_s3, df_top5_s4])\n",
    "\n",
    "# Create interactive Plotly bar chart\n",
    "fig = px.bar(\n",
    "    df_top5, \n",
    "    x=\"trimester\", \n",
    "    y=\"sold_quantity\", \n",
    "    color=\"product_name\",  # Different color for each product\n",
    "    text=df_top5[\"sold_quantity\"].apply(lambda x: f\"{x:,.0f}\"),  # Formatting numbers\n",
    "    labels={\"sold_quantity\": \"Total Sold Quantity\"},\n",
    "    title=\"Top 5 Products by Sales in Each Trimester\",\n",
    "    barmode=\"group\",  # Bars side-by-side\n",
    "    color_discrete_sequence=px.colors.qualitative.Set1  # Custom color theme\n",
    ")\n",
    "\n",
    "# Format y-axis to display in millions (like `1.2M`)\n",
    "fig.update_yaxes(\n",
    "    tickformat=\".1s\", \n",
    "    title_text=\"Total Sold Quantity\"\n",
    ")\n",
    "\n",
    "# Display text labels on bars\n",
    "fig.update_traces(textposition=\"outside\")\n",
    "\n",
    "# Show the figure\n",
    "fig.show()"
   ]
  },
  {
   "cell_type": "code",
   "execution_count": null,
   "id": "7af2103a-085f-4de0-8aff-5dd0bad10af1",
   "metadata": {},
   "outputs": [],
   "source": [
    "# Compute top 5 products by sales per quantity\n",
    "df_product_sales = df.groupby(\"product_name\").agg(\n",
    "    total_sales=('sold_quantity', 'sum'),\n",
    "    total_produced=('production_quantity', 'sum')\n",
    ").reset_index()\n",
    "\n",
    "df_product_sales['sales_per_quantity'] = df_product_sales['total_sales'] / df_product_sales['total_produced']\n",
    "df_top5_products = df_product_sales.nlargest(5, \"sales_per_quantity\")\n",
    "\n",
    "# Create an interactive Plotly bar chart\n",
    "fig = px.bar(\n",
    "    df_top5_products, \n",
    "    x=\"product_name\", \n",
    "    y=\"sales_per_quantity\", \n",
    "    text=df_top5_products[\"sales_per_quantity\"].apply(lambda x: f\"{x*100:.1f}%\"),  # Show percentage\n",
    "    labels={\"sales_per_quantity\": \"Sales per Quantity Produced\"},\n",
    "    title=\"Top 5 Products by Sales-to-Quantity Ratio\",\n",
    "    color=\"sales_per_quantity\",  # Color based on value\n",
    "    color_continuous_scale=\"Viridis\"  # Adjust color scale\n",
    ")\n",
    "\n",
    "# Format y-axis to display percentages\n",
    "fig.update_yaxes(\n",
    "    tickformat=\".1%\",  # Show in percentage format\n",
    "    title_text=\"Sales per Quantity Produced\"\n",
    ")\n",
    "\n",
    "# Adjust text label position\n",
    "fig.update_traces(textposition=\"outside\")\n",
    "\n",
    "# Show the figure\n",
    "fig.show()"
   ]
  },
  {
   "cell_type": "markdown",
   "id": "7520a94a",
   "metadata": {},
   "source": [
    "## top 5 %sale rate for each trimester"
   ]
  },
  {
   "cell_type": "code",
   "execution_count": null,
   "id": "2b521743",
   "metadata": {
    "scrolled": true
   },
   "outputs": [],
   "source": [
    "\n",
    "trimesters = {\n",
    "    \"Trimester 1\": df_trimester1,\n",
    "    \"Trimester 2\": df_trimester2,\n",
    "    \"Trimester 3 (Summer)\": df_trimester3,\n",
    "    \"Trimester 4\": df_trimester4\n",
    "}\n",
    "\n",
    "for trimester_name, df_trimester in trimesters.items():\n",
    "    df_product_sales = df_trimester.groupby(\"product_name\").agg(\n",
    "        total_sales=('sold_quantity', 'sum'),\n",
    "        total_produced=('production_quantity', 'sum')\n",
    "    ).reset_index()\n",
    "\n",
    "    df_product_sales['sales_per_quantity'] = df_product_sales['total_sales'] / df_product_sales['total_produced']\n",
    "    df_top5_products = df_product_sales.nlargest(5, \"sales_per_quantity\")\n",
    "\n",
    "    fig = px.bar(df_top5_products, x=\"product_name\", y=\"sales_per_quantity\", \n",
    "                 text=df_top5_products[\"sales_per_quantity\"].apply(lambda x: f\"{x*100:.1f}%\"),\n",
    "                 title=f\"Top 5 Products - {trimester_name}\",\n",
    "                 labels={\"sales_per_quantity\": \"Sales per Quantity Produced\"},\n",
    "                 color=\"sales_per_quantity\", \n",
    "                 color_continuous_scale=\"Viridis\")  # ✅ Use a valid colorscale\n",
    "    \n",
    "    fig.update_traces(textposition=\"outside\")\n",
    "    fig.show()\n"
   ]
  },
  {
   "cell_type": "markdown",
   "id": "a33617c2-d55d-4cad-908b-b7e2797a121d",
   "metadata": {},
   "source": [
    "### The 5 Least Efficient Products per Trimester (Sales-to-Production Ratio)"
   ]
  },
  {
   "cell_type": "code",
   "execution_count": null,
   "id": "8e47fb92",
   "metadata": {},
   "outputs": [],
   "source": [
    "trimesters = {\n",
    "    \"Trimester 1\": df_trimester1,\n",
    "    \"Trimester 2\": df_trimester2,\n",
    "    \"Trimester 3 (Summer)\": df_trimester3,\n",
    "    \"Trimester 4\": df_trimester4\n",
    "}\n",
    "\n",
    "for trimester_name, df_trimester in trimesters.items():\n",
    "    df_product_sales = df_trimester.groupby(\"product_name\").agg(\n",
    "        total_sales=('sold_quantity', 'sum'),\n",
    "        total_produced=('production_quantity', 'sum')\n",
    "    ).reset_index()\n",
    "\n",
    "    df_product_sales['sales_per_quantity'] = df_product_sales['total_sales'] / df_product_sales['total_produced']\n",
    "    \n",
    "    # Get the bottom 5 products instead of the top 5\n",
    "    df_bottom5_products = df_product_sales.nsmallest(5, \"sales_per_quantity\")\n",
    "\n",
    "    fig = px.bar(df_bottom5_products, x=\"product_name\", y=\"sales_per_quantity\", \n",
    "                 text=df_bottom5_products[\"sales_per_quantity\"].apply(lambda x: f\"{x*100:.1f}%\"),\n",
    "                 title=f\"Bottom 5 Products - {trimester_name}\",\n",
    "                 labels={\"sales_per_quantity\": \"Sales per Quantity Produced\"},\n",
    "                 color=\"sales_per_quantity\", \n",
    "                 color_continuous_scale=\"Viridis\")  \n",
    "\n",
    "    fig.update_traces(textposition=\"outside\")\n",
    "    fig.show()\n"
   ]
  },
  {
   "cell_type": "code",
   "execution_count": null,
   "id": "78657c2e-4b05-4357-802e-edf3ddd40b9c",
   "metadata": {},
   "outputs": [],
   "source": [
    "df_unsold = df.groupby(\"product_name\")[\"unsold_quantity\"].sum().reset_index()\n",
    "df_top_unsold = df_unsold.nlargest(5, \"unsold_quantity\")\n",
    "\n",
    "# Create bar plot\n",
    "fig = px.bar(df_top_unsold, x=\"product_name\", y=\"unsold_quantity\",\n",
    "             title=\"Top 5 Most Unsold Products\",\n",
    "             labels={\"unsold_quantity\": \"Total Unsold Quantity\"},\n",
    "             color=\"unsold_quantity\", color_continuous_scale=\"Reds\")\n",
    "\n",
    "fig.show()\n"
   ]
  },
  {
   "cell_type": "code",
   "execution_count": null,
   "id": "d505ca26-c3e4-4d6f-8ae0-a9c4506a1383",
   "metadata": {},
   "outputs": [],
   "source": [
    "df_unsold_ratio = df.groupby(\"product_name\").agg(\n",
    "    total_unsold=(\"unsold_quantity\", \"sum\"),\n",
    "    total_produced=(\"production_quantity\", \"sum\")\n",
    ").reset_index()\n",
    "\n",
    "# Prevent division by zero\n",
    "df_unsold_ratio[\"total_produced\"].replace(0, float(\"nan\"), inplace=True)\n",
    "\n",
    "# Calculate unsold-to-production ratio\n",
    "df_unsold_ratio[\"unsold_ratio\"] = df_unsold_ratio[\"total_unsold\"] / df_unsold_ratio[\"total_produced\"]\n",
    "\n",
    "# Get the top 10 worst-performing products\n",
    "df_top_unsold_ratio = df_unsold_ratio.nlargest(5, \"unsold_ratio\")\n",
    "\n",
    "# Create bar plot\n",
    "fig = px.bar(df_top_unsold_ratio, x=\"product_name\", y=\"unsold_ratio\",\n",
    "             title=\"Top 5 Products with Highest Unsold-to-Produced Ratio\",\n",
    "             labels={\"unsold_ratio\": \"Unsold / Produced Ratio\"},\n",
    "             color=\"unsold_ratio\", color_continuous_scale=\"Oranges\")\n",
    "\n",
    "fig.show()"
   ]
  },
  {
   "cell_type": "markdown",
   "id": "5ed4463f-13b5-4a83-ab7f-dfd56140bfd7",
   "metadata": {},
   "source": [
    "### Add Revenue Column (Price * sold quantity)"
   ]
  },
  {
   "cell_type": "code",
   "execution_count": null,
   "id": "be869dbb-b6a5-47f7-8e0c-1b4ed66d3d31",
   "metadata": {},
   "outputs": [],
   "source": [
    "#replace ',' with '.' for parsing to float\n",
    "for df_trimester in [df, df_trimester1, df_trimester2, df_trimester3, df_trimester4]:\n",
    "    df_trimester['price'] = df_trimester['price'].replace({',': '.'}, regex=True)\n",
    "    df_trimester['price'] = pd.to_numeric(df_trimester['price'], errors='raise')\n",
    "    df_trimester['revenue'] = df_trimester['price'] * df_trimester['sold_quantity']\n",
    "df[\"revenue\"] = df[\"price\"] * df[\"sold_quantity\"]\n",
    "df_trimester1[\"revenue\"] = df_trimester1[\"price\"] * df_trimester1[\"sold_quantity\"]\n",
    "df_trimester2[\"revenue\"] = df_trimester2[\"price\"] * df_trimester2[\"sold_quantity\"]\n",
    "df_trimester3[\"revenue\"] = df_trimester3[\"price\"] * df_trimester3[\"sold_quantity\"]\n",
    "df_trimester4[\"revenue\"] = df_trimester4[\"price\"] * df_trimester4[\"sold_quantity\"]\n"
   ]
  },
  {
   "cell_type": "code",
   "execution_count": null,
   "id": "cc0fff41-5f2a-420e-bd30-6addeac7c2d3",
   "metadata": {},
   "outputs": [],
   "source": [
    "df_trimester4[\"revenue\"].value_counts(dropna=False)"
   ]
  },
  {
   "cell_type": "code",
   "execution_count": null,
   "id": "6fb68ae9-c5b9-415e-a386-d9e0cf3fcf8b",
   "metadata": {},
   "outputs": [],
   "source": [
    "df['revenue'] = pd.to_numeric(df['revenue'], errors='coerce')\n",
    "df_trimester1['revenue'] = pd.to_numeric(df_trimester1['revenue'], errors='coerce')\n",
    "df_trimester2['revenue'] = pd.to_numeric(df_trimester2['revenue'], errors='coerce')\n",
    "df_trimester3['revenue'] = pd.to_numeric(df_trimester3['revenue'], errors='coerce')\n",
    "df_trimester4['revenue'] = pd.to_numeric(df_trimester4['revenue'], errors='coerce')\n"
   ]
  },
  {
   "cell_type": "code",
   "execution_count": null,
   "id": "927a4ae4-6a13-4adf-910b-b2973a93f45e",
   "metadata": {},
   "outputs": [],
   "source": [
    "df_revenue = df.groupby(\"product_name\")[\"revenue\"].sum().reset_index()\n",
    "\n",
    "fig = px.bar(df_revenue.nlargest(5, \"revenue\"), x=\"product_name\", y=\"revenue\",\n",
    "             title=\"Top 5 Products by Revenue\",\n",
    "             labels={\"revenue\": \"Total Revenue\"},\n",
    "             color=\"revenue\", color_continuous_scale=\"Blues\")\n",
    "\n",
    "fig.show()\n"
   ]
  },
  {
   "cell_type": "code",
   "execution_count": null,
   "id": "6f10111b-a405-4fa3-b871-65441a6e9f3e",
   "metadata": {},
   "outputs": [],
   "source": [
    "df_bottom5_products_by_revenue = df.nsmallest(5, \"revenue\")\n",
    "\n",
    "# Plotting the bottom 5 products by revenue\n",
    "fig = px.bar(df_bottom5_products_by_revenue, x=\"product_name\", y=\"revenue\", \n",
    "             title=\"Bottom 5 Products by Revenue\",\n",
    "             labels={\"revenue\": \"Total Revenue\"},\n",
    "             color=\"revenue\", color_continuous_scale=\"Viridis\")\n",
    "\n",
    "fig.show()"
   ]
  },
  {
   "cell_type": "code",
   "execution_count": null,
   "id": "a25158be-d93b-49dc-81d9-8f05b50a965f",
   "metadata": {},
   "outputs": [],
   "source": [
    "df_trimester2.head()"
   ]
  },
  {
   "cell_type": "code",
   "execution_count": null,
   "id": "f7fae6ea-1113-4a32-845b-3ac6e0cd7c42",
   "metadata": {},
   "outputs": [],
   "source": [
    "\n",
    "\n",
    "for trimester_name, df_trimester in trimesters.items():\n",
    "    # Grouping by product_name and summing the revenue directly\n",
    "    df_product_sales = df_trimester.groupby(\"product_name\").agg(\n",
    "        revenue=('revenue', 'sum')\n",
    "    ).reset_index()\n",
    "\n",
    "    # Get the top 5 products by revenue\n",
    "    df_top5_products = df_product_sales.nlargest(5, \"revenue\")\n",
    "\n",
    "    # Plot for top 5 products by revenue\n",
    "    fig_top5 = px.bar(df_top5_products, x=\"product_name\", y=\"revenue\", \n",
    "                      text=df_top5_products[\"revenue\"].apply(lambda x: f\"{x/1e6:,.2f}M\"),\n",
    "                      title=f\"Top 5 Products by Revenue - {trimester_name}\",\n",
    "                      labels={\"revenue\": \"Total Revenue\"},\n",
    "                      color=\"revenue\", color_continuous_scale=\"Viridis\",\n",
    "                     height=600)\n",
    "    fig_top5.update_traces(textposition=\"outside\")\n",
    "    fig_top5.show()\n"
   ]
  },
  {
   "cell_type": "code",
   "execution_count": null,
   "id": "f0f367b4-8ea0-4b8f-a1e3-90d1e8b6eaae",
   "metadata": {},
   "outputs": [],
   "source": [
    "\n",
    "for trimester_name, df_trimester in trimesters.items():\n",
    " # Select bottom 5 products by revenue\n",
    "    df_bottom5_products = df_product_sales.nsmallest(5, \"revenue\")\n",
    "\n",
    "    # Plot for bottom 5 products by revenue\n",
    "    fig_bottom5 = px.bar(df_bottom5_products, x=\"product_name\", y=\"revenue\", \n",
    "                         text=df_bottom5_products[\"revenue\"].apply(lambda x: f\"{x/1e6:,.2f}M\"),\n",
    "                         title=f\"Bottom 5 Products by Revenue - {trimester_name}\",\n",
    "                         labels={\"revenue\": \"Total Revenue\"},\n",
    "                         color=\"revenue\", color_continuous_scale=\"Viridis\",\n",
    "                         height=600)\n",
    "    \n",
    "    fig_bottom5.update_traces(textposition=\"outside\")\n",
    "    fig_bottom5.show()  # This will show the plot for the current trimester"
   ]
  },
  {
   "cell_type": "code",
   "execution_count": null,
   "id": "0cd3ee9f-c16a-4814-87f6-faf128868544",
   "metadata": {},
   "outputs": [],
   "source": []
  }
 ],
 "metadata": {
  "kernelspec": {
   "display_name": "Python 3 (ipykernel)",
   "language": "python",
   "name": "python3"
  },
  "language_info": {
   "codemirror_mode": {
    "name": "ipython",
    "version": 3
   },
   "file_extension": ".py",
   "mimetype": "text/x-python",
   "name": "python",
   "nbconvert_exporter": "python",
   "pygments_lexer": "ipython3",
   "version": "3.11.9"
  }
 },
 "nbformat": 4,
 "nbformat_minor": 5
}
