{
 "cells": [
  {
   "cell_type": "markdown",
   "id": "710f6557-cc09-4007-a733-45a918de8085",
   "metadata": {},
   "source": [
    "### Reading In Files "
   ]
  },
  {
   "cell_type": "code",
   "execution_count": 61,
   "id": "33ba1145-81b6-4c64-8c20-5ab1735b630d",
   "metadata": {},
   "outputs": [],
   "source": [
    "import pandas as pd\n",
    "import numpy as np\n",
    "import matplotlib.pyplot as plt\n",
    "import seaborn as sns\n",
    "from scipy import stats\n",
    "import matplotlib.ticker as ticker\n"
   ]
  },
  {
   "cell_type": "code",
   "execution_count": 29,
   "id": "da206485-78ff-4ccc-a152-4e7ed018b9d0",
   "metadata": {},
   "outputs": [],
   "source": [
    "df_trimester1=pd.read_csv(r\"C:\\Users\\alaak\\Downloads\\inventory_semester_1.csv\")\n",
    "df_trimester2=pd.read_csv(r\"C:\\Users\\alaak\\Downloads\\inventory_semester_2.csv\")\n",
    "df_trimester3=pd.read_csv(r\"C:\\Users\\alaak\\Downloads\\inventory_semester_3.csv\")\n",
    "df_trimester4=pd.read_csv(r\"C:\\Users\\alaak\\Downloads\\inventory_semester_4.csv\")\n"
   ]
  },
  {
   "cell_type": "markdown",
   "id": "4ff53135-7474-4c2b-a0b7-2194a7fd6df0",
   "metadata": {},
   "source": [
    "### Check for Duplicates"
   ]
  },
  {
   "cell_type": "code",
   "execution_count": 30,
   "id": "1b56a8a9-754e-4e3e-875c-b67cff96864f",
   "metadata": {},
   "outputs": [
    {
     "name": "stdout",
     "output_type": "stream",
     "text": [
      "146\n",
      "176\n",
      "151\n",
      "137\n"
     ]
    }
   ],
   "source": [
    "print(df_trimester1.duplicated().sum())\n",
    "print(df_trimester2.duplicated().sum())\n",
    "print(df_trimester3.duplicated().sum())\n",
    "print(df_trimester4.duplicated().sum())\n"
   ]
  },
  {
   "cell_type": "markdown",
   "id": "a2060141-8bdf-472f-86d4-cc6d01685076",
   "metadata": {},
   "source": [
    "### Remove Duplicates"
   ]
  },
  {
   "cell_type": "code",
   "execution_count": 31,
   "id": "000a00c5-419e-4075-975b-04eb566d440a",
   "metadata": {},
   "outputs": [
    {
     "name": "stdout",
     "output_type": "stream",
     "text": [
      "0\n",
      "0\n",
      "0\n",
      "0\n"
     ]
    }
   ],
   "source": [
    "df_trimester1=df_trimester1.drop_duplicates()\n",
    "df_trimester2=df_trimester2.drop_duplicates()\n",
    "df_trimester3=df_trimester3.drop_duplicates()\n",
    "df_trimester4=df_trimester4.drop_duplicates()\n",
    "print(df_trimester1.duplicated().sum())\n",
    "print(df_trimester2.duplicated().sum())\n",
    "print(df_trimester3.duplicated().sum())\n",
    "print(df_trimester4.duplicated().sum())"
   ]
  },
  {
   "cell_type": "markdown",
   "id": "6e66fccf",
   "metadata": {},
   "source": [
    "### Merge The Data Frames"
   ]
  },
  {
   "cell_type": "code",
   "execution_count": 32,
   "id": "70808180",
   "metadata": {},
   "outputs": [],
   "source": [
    "df=pd.concat([df_trimester1, df_trimester2, df_trimester3, df_trimester4], axis=0)"
   ]
  },
  {
   "cell_type": "markdown",
   "id": "905c3bfa-f857-43fe-a562-e184f9a8b6ce",
   "metadata": {},
   "source": [
    "### Check the first few rows"
   ]
  },
  {
   "cell_type": "code",
   "execution_count": 33,
   "id": "e567b3e5-c5e3-46e3-a358-3fe665159a79",
   "metadata": {},
   "outputs": [
    {
     "data": {
      "text/html": [
       "<div>\n",
       "<style scoped>\n",
       "    .dataframe tbody tr th:only-of-type {\n",
       "        vertical-align: middle;\n",
       "    }\n",
       "\n",
       "    .dataframe tbody tr th {\n",
       "        vertical-align: top;\n",
       "    }\n",
       "\n",
       "    .dataframe thead th {\n",
       "        text-align: right;\n",
       "    }\n",
       "</style>\n",
       "<table border=\"1\" class=\"dataframe\">\n",
       "  <thead>\n",
       "    <tr style=\"text-align: right;\">\n",
       "      <th></th>\n",
       "      <th>product_id</th>\n",
       "      <th>product_name</th>\n",
       "      <th>category</th>\n",
       "      <th>weight_g</th>\n",
       "      <th>price</th>\n",
       "      <th>manufacturing_date</th>\n",
       "      <th>expiry_date</th>\n",
       "      <th>production_quantity</th>\n",
       "      <th>sold_quantity</th>\n",
       "      <th>returned_quantity</th>\n",
       "      <th>damaged_quantity</th>\n",
       "    </tr>\n",
       "  </thead>\n",
       "  <tbody>\n",
       "    <tr>\n",
       "      <th>0</th>\n",
       "      <td>1</td>\n",
       "      <td>Yaourt Aromatisé Fraise 100g</td>\n",
       "      <td>Yaourt Aromatisé</td>\n",
       "      <td>100</td>\n",
       "      <td>0.54</td>\n",
       "      <td>1/1/2024</td>\n",
       "      <td>1/31/2024</td>\n",
       "      <td>27334</td>\n",
       "      <td>21473</td>\n",
       "      <td>1581</td>\n",
       "      <td>3325</td>\n",
       "    </tr>\n",
       "    <tr>\n",
       "      <th>1</th>\n",
       "      <td>2</td>\n",
       "      <td>Yaourt Aromatisé Banane 100g</td>\n",
       "      <td>Yaourt Aromatisé</td>\n",
       "      <td>100</td>\n",
       "      <td>0.54</td>\n",
       "      <td>1/1/2024</td>\n",
       "      <td>1/31/2024</td>\n",
       "      <td>97708</td>\n",
       "      <td>70302</td>\n",
       "      <td>8269</td>\n",
       "      <td>17423</td>\n",
       "    </tr>\n",
       "    <tr>\n",
       "      <th>2</th>\n",
       "      <td>3</td>\n",
       "      <td>Yaourt Aromatisé Vanille 100g</td>\n",
       "      <td>Yaourt Aromatisé</td>\n",
       "      <td>100</td>\n",
       "      <td>0.54</td>\n",
       "      <td>1/1/2024</td>\n",
       "      <td>1/31/2024</td>\n",
       "      <td>22590</td>\n",
       "      <td>18523</td>\n",
       "      <td>unknown</td>\n",
       "      <td>1513</td>\n",
       "    </tr>\n",
       "    <tr>\n",
       "      <th>3</th>\n",
       "      <td>4</td>\n",
       "      <td>Yaourt Aromatisé Noix de coco 100g</td>\n",
       "      <td>Yaourt Aromatisé</td>\n",
       "      <td>100</td>\n",
       "      <td>0.54</td>\n",
       "      <td>1/1/2024</td>\n",
       "      <td>1/31/2024</td>\n",
       "      <td>24547</td>\n",
       "      <td>17087</td>\n",
       "      <td>NaN</td>\n",
       "      <td>2772</td>\n",
       "    </tr>\n",
       "    <tr>\n",
       "      <th>4</th>\n",
       "      <td>5</td>\n",
       "      <td>Yaourt aux Fruits Pêche Abricot 100g</td>\n",
       "      <td>Yaourt aux Fruits</td>\n",
       "      <td>100</td>\n",
       "      <td>0.84</td>\n",
       "      <td>1/1/2024</td>\n",
       "      <td>1/31/2024</td>\n",
       "      <td>44527</td>\n",
       "      <td>34933</td>\n",
       "      <td>2880</td>\n",
       "      <td>6110</td>\n",
       "    </tr>\n",
       "  </tbody>\n",
       "</table>\n",
       "</div>"
      ],
      "text/plain": [
       "   product_id                          product_name           category  \\\n",
       "0           1          Yaourt Aromatisé Fraise 100g   Yaourt Aromatisé   \n",
       "1           2          Yaourt Aromatisé Banane 100g   Yaourt Aromatisé   \n",
       "2           3         Yaourt Aromatisé Vanille 100g   Yaourt Aromatisé   \n",
       "3           4    Yaourt Aromatisé Noix de coco 100g   Yaourt Aromatisé   \n",
       "4           5  Yaourt aux Fruits Pêche Abricot 100g  Yaourt aux Fruits   \n",
       "\n",
       "   weight_g price manufacturing_date expiry_date  production_quantity  \\\n",
       "0       100  0.54           1/1/2024   1/31/2024                27334   \n",
       "1       100  0.54           1/1/2024   1/31/2024                97708   \n",
       "2       100  0.54           1/1/2024   1/31/2024                22590   \n",
       "3       100  0.54           1/1/2024   1/31/2024                24547   \n",
       "4       100  0.84           1/1/2024   1/31/2024                44527   \n",
       "\n",
       "  sold_quantity returned_quantity damaged_quantity  \n",
       "0         21473              1581             3325  \n",
       "1         70302              8269            17423  \n",
       "2         18523           unknown             1513  \n",
       "3         17087               NaN             2772  \n",
       "4         34933              2880             6110  "
      ]
     },
     "execution_count": 33,
     "metadata": {},
     "output_type": "execute_result"
    }
   ],
   "source": [
    "df.head()"
   ]
  },
  {
   "cell_type": "markdown",
   "id": "b9dfa884-851d-4cea-99cb-e9f4453c6725",
   "metadata": {},
   "source": [
    "### Get the Summary of The DataFrame"
   ]
  },
  {
   "cell_type": "code",
   "execution_count": 34,
   "id": "903c990d-45f9-4aaa-acf3-920ee9f4d99c",
   "metadata": {},
   "outputs": [
    {
     "name": "stdout",
     "output_type": "stream",
     "text": [
      "<class 'pandas.core.frame.DataFrame'>\n",
      "Index: 10451 entries, 0 to 2717\n",
      "Data columns (total 11 columns):\n",
      " #   Column               Non-Null Count  Dtype \n",
      "---  ------               --------------  ----- \n",
      " 0   product_id           10451 non-null  int64 \n",
      " 1   product_name         10451 non-null  object\n",
      " 2   category             10451 non-null  object\n",
      " 3   weight_g             10451 non-null  int64 \n",
      " 4   price                10451 non-null  object\n",
      " 5   manufacturing_date   10451 non-null  object\n",
      " 6   expiry_date          10451 non-null  object\n",
      " 7   production_quantity  10451 non-null  int64 \n",
      " 8   sold_quantity        9543 non-null   object\n",
      " 9   returned_quantity    9789 non-null   object\n",
      " 10  damaged_quantity     9621 non-null   object\n",
      "dtypes: int64(3), object(8)\n",
      "memory usage: 979.8+ KB\n"
     ]
    }
   ],
   "source": [
    "df.info()"
   ]
  },
  {
   "cell_type": "markdown",
   "id": "bf361634-aa4a-47f0-81ed-37ddd46ff2c1",
   "metadata": {},
   "source": [
    "### Check the Nulls"
   ]
  },
  {
   "cell_type": "code",
   "execution_count": 35,
   "id": "b2ba09fd-2def-4f31-98cf-fa27e8567d40",
   "metadata": {
    "scrolled": true
   },
   "outputs": [
    {
     "name": "stdout",
     "output_type": "stream",
     "text": [
      "product_id               0\n",
      "product_name             0\n",
      "category                 0\n",
      "weight_g                 0\n",
      "price                    0\n",
      "manufacturing_date       0\n",
      "expiry_date              0\n",
      "production_quantity      0\n",
      "sold_quantity          908\n",
      "returned_quantity      662\n",
      "damaged_quantity       830\n",
      "dtype: int64\n"
     ]
    }
   ],
   "source": [
    "print(df.isnull().sum())"
   ]
  },
  {
   "cell_type": "markdown",
   "id": "b6230eeb-cd53-4ed4-a8e9-bac68406083f",
   "metadata": {},
   "source": [
    "### Check the sold_quantity,returned_quantity,damaged_quantity Columns"
   ]
  },
  {
   "cell_type": "code",
   "execution_count": 36,
   "id": "f012d580-957c-43d4-8e7a-08cf19278b50",
   "metadata": {},
   "outputs": [
    {
     "name": "stdout",
     "output_type": "stream",
     "text": [
      "sold_quantity\n",
      "NaN        908\n",
      "unknown    502\n",
      "3143        15\n",
      "3359        12\n",
      "3412        12\n",
      "          ... \n",
      "10173        1\n",
      "17087        1\n",
      "39950        1\n",
      "6745         1\n",
      "8535         1\n",
      "Name: count, Length: 4840, dtype: int64\n"
     ]
    }
   ],
   "source": [
    "print(df[\"sold_quantity\"].value_counts(dropna=False))"
   ]
  },
  {
   "cell_type": "code",
   "execution_count": 37,
   "id": "62f01ee9-af19-4374-8257-7da53fb7ffbc",
   "metadata": {},
   "outputs": [
    {
     "name": "stdout",
     "output_type": "stream",
     "text": [
      "returned_quantity\n",
      "NaN        662\n",
      "unknown    260\n",
      "144         32\n",
      "176         28\n",
      "197         28\n",
      "          ... \n",
      "812          1\n",
      "17485        1\n",
      "2925         1\n",
      "2330         1\n",
      "11764        1\n",
      "Name: count, Length: 2163, dtype: int64\n"
     ]
    }
   ],
   "source": [
    "print(df[\"returned_quantity\"].value_counts(dropna=False))\n"
   ]
  },
  {
   "cell_type": "code",
   "execution_count": 38,
   "id": "debf6423-5207-4409-9f46-8e7f902e1bb8",
   "metadata": {},
   "outputs": [
    {
     "name": "stdout",
     "output_type": "stream",
     "text": [
      "damaged_quantity\n",
      "NaN        830\n",
      "unknown    446\n",
      "            87\n",
      "225         18\n",
      "162         17\n",
      "          ... \n",
      "1725         1\n",
      "2273         1\n",
      "1027         1\n",
      "3722         1\n",
      "1537         1\n",
      "Name: count, Length: 2839, dtype: int64\n"
     ]
    }
   ],
   "source": [
    "print(df[\"damaged_quantity\"].value_counts(dropna=False))"
   ]
  },
  {
   "cell_type": "markdown",
   "id": "9bfff6bc-88e3-4e15-835f-08047eb312fb",
   "metadata": {},
   "source": [
    "### Replace \"unknown\" with NaN"
   ]
  },
  {
   "cell_type": "code",
   "execution_count": 39,
   "id": "396121cc-c0b8-44e7-b56a-fa1a527a9501",
   "metadata": {},
   "outputs": [],
   "source": [
    "df_trimester1[[\"sold_quantity\", \"returned_quantity\", \"damaged_quantity\"]] = df_trimester1[[\"sold_quantity\", \"returned_quantity\", \"damaged_quantity\"]].replace([\"unknown\",\" \",0], np.nan)\n",
    "df_trimester2[[\"sold_quantity\", \"returned_quantity\", \"damaged_quantity\"]] = df_trimester2[[\"sold_quantity\", \"returned_quantity\", \"damaged_quantity\"]].replace([\"unknown\",\" \",0], np.nan)\n",
    "df_trimester3[[\"sold_quantity\", \"returned_quantity\", \"damaged_quantity\"]] = df_trimester3[[\"sold_quantity\", \"returned_quantity\", \"damaged_quantity\"]].replace([\"unknown\",\" \",0], np.nan)\n",
    "df_trimester4[[\"sold_quantity\", \"returned_quantity\", \"damaged_quantity\"]] = df_trimester4[[\"sold_quantity\", \"returned_quantity\", \"damaged_quantity\"]].replace([\"unknown\",\" \",0], np.nan)\n",
    "df[[\"sold_quantity\", \"returned_quantity\", \"damaged_quantity\"]] = df[[\"sold_quantity\", \"returned_quantity\", \"damaged_quantity\"]].replace([\"unknown\",\" \",0], np.nan)"
   ]
  },
  {
   "cell_type": "code",
   "execution_count": 40,
   "id": "1cc08575-74bc-483e-b739-e062a24c3976",
   "metadata": {},
   "outputs": [
    {
     "name": "stdout",
     "output_type": "stream",
     "text": [
      "sold_quantity\n",
      "NaN      1410\n",
      "3143       15\n",
      "3412       12\n",
      "3359       12\n",
      "3191       11\n",
      "         ... \n",
      "17102       1\n",
      "18843       1\n",
      "49698       1\n",
      "24650       1\n",
      "3260        1\n",
      "Name: count, Length: 4839, dtype: int64\n"
     ]
    }
   ],
   "source": [
    "print(df[\"sold_quantity\"].value_counts(dropna=False))"
   ]
  },
  {
   "cell_type": "code",
   "execution_count": 41,
   "id": "669b0a83-293f-4e25-92c1-e63a148e1c5a",
   "metadata": {},
   "outputs": [
    {
     "name": "stdout",
     "output_type": "stream",
     "text": [
      "returned_quantity\n",
      "NaN      922\n",
      "144       32\n",
      "197       28\n",
      "132       28\n",
      "176       28\n",
      "        ... \n",
      "8312       1\n",
      "17214      1\n",
      "4540       1\n",
      "1124       1\n",
      "1656       1\n",
      "Name: count, Length: 2162, dtype: int64\n"
     ]
    }
   ],
   "source": [
    "print(df[\"returned_quantity\"].value_counts(dropna=False))"
   ]
  },
  {
   "cell_type": "code",
   "execution_count": 42,
   "id": "c8b5585f-7fff-43c9-ad3d-e1698842bec5",
   "metadata": {},
   "outputs": [
    {
     "name": "stdout",
     "output_type": "stream",
     "text": [
      "damaged_quantity\n",
      "NaN      1363\n",
      "225        18\n",
      "162        17\n",
      "164        17\n",
      "598        16\n",
      "         ... \n",
      "11126       1\n",
      "4868        1\n",
      "1486        1\n",
      "3569        1\n",
      "1465        1\n",
      "Name: count, Length: 2837, dtype: int64\n"
     ]
    }
   ],
   "source": [
    "print(df[\"damaged_quantity\"].value_counts(dropna=False))"
   ]
  },
  {
   "cell_type": "markdown",
   "id": "967420f9-2f84-4b46-a1ee-2e554c6170df",
   "metadata": {},
   "source": [
    "### Replace the NaN with the average value of the trimester for The column \"production_quantity\""
   ]
  },
  {
   "cell_type": "code",
   "execution_count": 43,
   "id": "7f12b1ac-5d4c-4810-8923-d4f09f33a791",
   "metadata": {},
   "outputs": [
    {
     "name": "stdout",
     "output_type": "stream",
     "text": [
      "sold_quantity\n",
      "3143     15\n",
      "3359     13\n",
      "3036     12\n",
      "3299     12\n",
      "3412     12\n",
      "         ..\n",
      "18843     1\n",
      "49698     1\n",
      "24650     1\n",
      "3260      1\n",
      "11673     1\n",
      "Name: count, Length: 5487, dtype: int64\n"
     ]
    }
   ],
   "source": [
    "import numpy as np\n",
    "import pandas as pd\n",
    "\n",
    "# Columns to be filled\n",
    "columns_to_fill = ['sold_quantity', 'returned_quantity', 'damaged_quantity']\n",
    "\n",
    "for col in columns_to_fill:\n",
    "    for trimester_df in [df_trimester1, df_trimester2, df_trimester3, df_trimester4 ,df]:\n",
    "        # Ensure 'production_quantity' and the current column are numeric\n",
    "        trimester_df['production_quantity'] = pd.to_numeric(trimester_df['production_quantity'], errors='coerce')\n",
    "        trimester_df[col] = pd.to_numeric(trimester_df[col], errors='coerce')\n",
    "\n",
    "        # Compute the mean ratio before replacing values\n",
    "        ratio_mean = (trimester_df[col] / trimester_df['production_quantity']).mean(skipna=True)\n",
    "        \n",
    "        # Check for any zero production quantity to avoid division by zero\n",
    "        if np.any(trimester_df['production_quantity'] == 0):\n",
    "            print(f\"Warning: Zero production quantities found in {col} for trimester.\")\n",
    "\n",
    "        # Replace NaN and 0 values with the computed ratio\n",
    "        mask = (trimester_df[col].isna()) | (trimester_df[col] == 0)\n",
    "        trimester_df.loc[mask, col] = (\n",
    "            (trimester_df.loc[mask, 'production_quantity'] * ratio_mean).astype(int)\n",
    "        )\n",
    "\n",
    "        # Convert to integer after all replacements (if necessary)\n",
    "        trimester_df[col] = trimester_df[col].astype(int)\n",
    "\n",
    "# Checking value counts after replacements\n",
    "print(df[\"sold_quantity\"].value_counts(dropna=False))\n"
   ]
  },
  {
   "cell_type": "markdown",
   "id": "994f327b-c3ae-4d52-ba04-bbc54789382f",
   "metadata": {},
   "source": [
    "### Create unsold product column"
   ]
  },
  {
   "cell_type": "code",
   "execution_count": 44,
   "id": "6e9c533c-d82b-45b3-b48d-742736a71bfb",
   "metadata": {},
   "outputs": [],
   "source": [
    "df['unsold_quantity'] = df['production_quantity'] - (df['damaged_quantity'] + df['returned_quantity'] + df['sold_quantity'])\n",
    "df_trimester1['unsold_quantity'] = df_trimester1['production_quantity'] - (df_trimester1['damaged_quantity'] + df_trimester1['returned_quantity'] + df_trimester1['sold_quantity'])\n",
    "df_trimester2['unsold_quantity'] = df_trimester2['production_quantity'] - (df_trimester2['damaged_quantity'] + df_trimester2['returned_quantity'] + df_trimester2['sold_quantity'])\n",
    "df_trimester3['unsold_quantity'] = df_trimester3['production_quantity'] - (df_trimester3['damaged_quantity'] + df_trimester3['returned_quantity'] + df_trimester3['sold_quantity'])\n",
    "df_trimester4['unsold_quantity'] = df_trimester4['production_quantity'] - (df_trimester4['damaged_quantity'] + df_trimester4['returned_quantity'] + df_trimester4['sold_quantity'])"
   ]
  },
  {
   "cell_type": "markdown",
   "id": "a42980c9-38a4-40bc-927a-297b82c8368e",
   "metadata": {},
   "source": [
    "### Check the new column"
   ]
  },
  {
   "cell_type": "code",
   "execution_count": 45,
   "id": "9b445ef4-b073-45a6-ac9e-805722a18052",
   "metadata": {},
   "outputs": [
    {
     "data": {
      "text/html": [
       "<div>\n",
       "<style scoped>\n",
       "    .dataframe tbody tr th:only-of-type {\n",
       "        vertical-align: middle;\n",
       "    }\n",
       "\n",
       "    .dataframe tbody tr th {\n",
       "        vertical-align: top;\n",
       "    }\n",
       "\n",
       "    .dataframe thead th {\n",
       "        text-align: right;\n",
       "    }\n",
       "</style>\n",
       "<table border=\"1\" class=\"dataframe\">\n",
       "  <thead>\n",
       "    <tr style=\"text-align: right;\">\n",
       "      <th></th>\n",
       "      <th>product_id</th>\n",
       "      <th>product_name</th>\n",
       "      <th>category</th>\n",
       "      <th>weight_g</th>\n",
       "      <th>price</th>\n",
       "      <th>manufacturing_date</th>\n",
       "      <th>expiry_date</th>\n",
       "      <th>production_quantity</th>\n",
       "      <th>sold_quantity</th>\n",
       "      <th>returned_quantity</th>\n",
       "      <th>damaged_quantity</th>\n",
       "      <th>unsold_quantity</th>\n",
       "    </tr>\n",
       "  </thead>\n",
       "  <tbody>\n",
       "    <tr>\n",
       "      <th>0</th>\n",
       "      <td>1</td>\n",
       "      <td>Yaourt Aromatisé Fraise 100g</td>\n",
       "      <td>Yaourt Aromatisé</td>\n",
       "      <td>100</td>\n",
       "      <td>0.54</td>\n",
       "      <td>1/1/2024</td>\n",
       "      <td>1/31/2024</td>\n",
       "      <td>27334</td>\n",
       "      <td>21473</td>\n",
       "      <td>1581</td>\n",
       "      <td>3325</td>\n",
       "      <td>955</td>\n",
       "    </tr>\n",
       "    <tr>\n",
       "      <th>1</th>\n",
       "      <td>2</td>\n",
       "      <td>Yaourt Aromatisé Banane 100g</td>\n",
       "      <td>Yaourt Aromatisé</td>\n",
       "      <td>100</td>\n",
       "      <td>0.54</td>\n",
       "      <td>1/1/2024</td>\n",
       "      <td>1/31/2024</td>\n",
       "      <td>97708</td>\n",
       "      <td>70302</td>\n",
       "      <td>8269</td>\n",
       "      <td>17423</td>\n",
       "      <td>1714</td>\n",
       "    </tr>\n",
       "    <tr>\n",
       "      <th>2</th>\n",
       "      <td>3</td>\n",
       "      <td>Yaourt Aromatisé Vanille 100g</td>\n",
       "      <td>Yaourt Aromatisé</td>\n",
       "      <td>100</td>\n",
       "      <td>0.54</td>\n",
       "      <td>1/1/2024</td>\n",
       "      <td>1/31/2024</td>\n",
       "      <td>22590</td>\n",
       "      <td>18523</td>\n",
       "      <td>1003</td>\n",
       "      <td>1513</td>\n",
       "      <td>1551</td>\n",
       "    </tr>\n",
       "    <tr>\n",
       "      <th>3</th>\n",
       "      <td>4</td>\n",
       "      <td>Yaourt Aromatisé Noix de coco 100g</td>\n",
       "      <td>Yaourt Aromatisé</td>\n",
       "      <td>100</td>\n",
       "      <td>0.54</td>\n",
       "      <td>1/1/2024</td>\n",
       "      <td>1/31/2024</td>\n",
       "      <td>24547</td>\n",
       "      <td>17087</td>\n",
       "      <td>1090</td>\n",
       "      <td>2772</td>\n",
       "      <td>3598</td>\n",
       "    </tr>\n",
       "    <tr>\n",
       "      <th>4</th>\n",
       "      <td>5</td>\n",
       "      <td>Yaourt aux Fruits Pêche Abricot 100g</td>\n",
       "      <td>Yaourt aux Fruits</td>\n",
       "      <td>100</td>\n",
       "      <td>0.84</td>\n",
       "      <td>1/1/2024</td>\n",
       "      <td>1/31/2024</td>\n",
       "      <td>44527</td>\n",
       "      <td>34933</td>\n",
       "      <td>2880</td>\n",
       "      <td>6110</td>\n",
       "      <td>604</td>\n",
       "    </tr>\n",
       "  </tbody>\n",
       "</table>\n",
       "</div>"
      ],
      "text/plain": [
       "   product_id                          product_name           category  \\\n",
       "0           1          Yaourt Aromatisé Fraise 100g   Yaourt Aromatisé   \n",
       "1           2          Yaourt Aromatisé Banane 100g   Yaourt Aromatisé   \n",
       "2           3         Yaourt Aromatisé Vanille 100g   Yaourt Aromatisé   \n",
       "3           4    Yaourt Aromatisé Noix de coco 100g   Yaourt Aromatisé   \n",
       "4           5  Yaourt aux Fruits Pêche Abricot 100g  Yaourt aux Fruits   \n",
       "\n",
       "   weight_g price manufacturing_date expiry_date  production_quantity  \\\n",
       "0       100  0.54           1/1/2024   1/31/2024                27334   \n",
       "1       100  0.54           1/1/2024   1/31/2024                97708   \n",
       "2       100  0.54           1/1/2024   1/31/2024                22590   \n",
       "3       100  0.54           1/1/2024   1/31/2024                24547   \n",
       "4       100  0.84           1/1/2024   1/31/2024                44527   \n",
       "\n",
       "   sold_quantity  returned_quantity  damaged_quantity  unsold_quantity  \n",
       "0          21473               1581              3325              955  \n",
       "1          70302               8269             17423             1714  \n",
       "2          18523               1003              1513             1551  \n",
       "3          17087               1090              2772             3598  \n",
       "4          34933               2880              6110              604  "
      ]
     },
     "execution_count": 45,
     "metadata": {},
     "output_type": "execute_result"
    }
   ],
   "source": [
    "df.head()"
   ]
  },
  {
   "cell_type": "markdown",
   "id": "7dda35e8-2839-418a-971b-64de8c44c5fd",
   "metadata": {},
   "source": [
    "### Check the \"product_name\" values"
   ]
  },
  {
   "cell_type": "code",
   "execution_count": 46,
   "id": "e0bdd7f9-4385-48b3-800f-f46e0a34a0a8",
   "metadata": {},
   "outputs": [
    {
     "data": {
      "text/plain": [
       "product_name\n",
       "Grecos Fraise                                 395\n",
       "Bifi Aromatisé Citron 0% 100g                 394\n",
       "Yaourt aux Fruits Mixés Fraise 100g           393\n",
       "Vitupti Fraise 100g                           389\n",
       "Yaourt Nature 100g                            388\n",
       "Yaourt aux Fruits Secs 100g                   388\n",
       "Yaourt aux Fruits cerise et framboise 100g    387\n",
       "Yaourt Brassé Biscuit-Vanille 70g             387\n",
       "Grécos                                        386\n",
       "Yaourt Brassé Pistache 70g                    385\n",
       "Yaourt Brassé Tutti Frutti 70g                385\n",
       "Grecos Nature Sucré                           384\n",
       "Vitupti Vanille 100g                          384\n",
       "Yaourt Brassé Vanille 70g                     383\n",
       "Yaourt aux Fruits Pêche Abricot 100g          383\n",
       "Yaourt aux Fruits Mixés Mangue 100g           382\n",
       "Yaourt Brassé Fraise Banane 70g               379\n",
       "Vit'up Max Vanille 260g                       348\n",
       "Vit'up Max Fraise 260g                        347\n",
       "Vit'up Fraise 160g                            342\n",
       "Vit'up Pinacolada 160g                        341\n",
       "Vit'up Vanille 160g                           341\n",
       "Vit'up Pinacolada 260g                        341\n",
       "Yaourt Aromatisé Fraise 100g                  316\n",
       "Yaourt Aromatisé Vanille 100g                 309\n",
       "Yaourt Aromatisé Noix de coco 100g            309\n",
       "Yaourt Aromatisé Banane 100g                  299\n",
       "Yaourt Aromatise Banane 100g                   96\n",
       "Yaourt Aromatise Fraise 100g                   79\n",
       "Yaourt Aromatise Vanille 100g                  74\n",
       "Yaourt Aromatise Noix de coco 100g             72\n",
       "vitup Vanille 160g                             50\n",
       "vitup Max Vanille 260g                         45\n",
       "vitup Pinacolada 160g                          45\n",
       "vitup Pinacolada 260g                          40\n",
       "vitup Fraise 160g                              38\n",
       "vitup Max Fraise 260g                          37\n",
       "Yaourt Brassé Fraise Ba@ane 70g                 1\n",
       "Vit'up Max@Vanille 260g                         1\n",
       "Yaourt aux Fruits Secs @00g                     1\n",
       "Yaourt aux Fruits Mixés Mangue 10@g             1\n",
       "Yaou@t aux Fruits Pêche Abricot 100g            1\n",
       "Yaourt Brassé @iscuit-Vanille 70g               1\n",
       "Yaourt Aromatisé@Vanille 100g                   1\n",
       "Grecos Nature Su@ré                             1\n",
       "Vitupti Frais@ 100g                             1\n",
       "Yaourt aux Fruits Pêche Abricot 10@g            1\n",
       "Name: count, dtype: int64"
      ]
     },
     "execution_count": 46,
     "metadata": {},
     "output_type": "execute_result"
    }
   ],
   "source": [
    "df[\"product_name\"].value_counts()"
   ]
  },
  {
   "cell_type": "markdown",
   "id": "b9a79dfc-0bb9-49f7-be15-597c830c273f",
   "metadata": {},
   "source": [
    "### Fix incorrect Syntax "
   ]
  },
  {
   "cell_type": "code",
   "execution_count": 47,
   "id": "b5637bc5",
   "metadata": {},
   "outputs": [
    {
     "name": "stdout",
     "output_type": "stream",
     "text": [
      "Index([], dtype='object')\n",
      "Index([], dtype='object')\n"
     ]
    }
   ],
   "source": [
    "print(df.columns[df.columns.duplicated()])  # Check duplicate columns\n",
    "print(df_trimester1.columns[df_trimester1.columns.duplicated()])"
   ]
  },
  {
   "cell_type": "code",
   "execution_count": 48,
   "id": "ed07b6ba-579e-4101-afd3-84c62d7df207",
   "metadata": {},
   "outputs": [
    {
     "data": {
      "text/html": [
       "<div>\n",
       "<style scoped>\n",
       "    .dataframe tbody tr th:only-of-type {\n",
       "        vertical-align: middle;\n",
       "    }\n",
       "\n",
       "    .dataframe tbody tr th {\n",
       "        vertical-align: top;\n",
       "    }\n",
       "\n",
       "    .dataframe thead th {\n",
       "        text-align: right;\n",
       "    }\n",
       "</style>\n",
       "<table border=\"1\" class=\"dataframe\">\n",
       "  <thead>\n",
       "    <tr style=\"text-align: right;\">\n",
       "      <th></th>\n",
       "      <th>product_id</th>\n",
       "      <th>product_name</th>\n",
       "      <th>category</th>\n",
       "      <th>weight_g</th>\n",
       "      <th>price</th>\n",
       "      <th>manufacturing_date</th>\n",
       "      <th>expiry_date</th>\n",
       "      <th>production_quantity</th>\n",
       "      <th>sold_quantity</th>\n",
       "      <th>returned_quantity</th>\n",
       "      <th>damaged_quantity</th>\n",
       "      <th>unsold_quantity</th>\n",
       "    </tr>\n",
       "  </thead>\n",
       "  <tbody>\n",
       "    <tr>\n",
       "      <th>0</th>\n",
       "      <td>1</td>\n",
       "      <td>Yaourt Aromatisé Fraise 100g</td>\n",
       "      <td>Yaourt Aromatisé</td>\n",
       "      <td>100</td>\n",
       "      <td>0.54</td>\n",
       "      <td>1/1/2024</td>\n",
       "      <td>1/31/2024</td>\n",
       "      <td>27334</td>\n",
       "      <td>21473</td>\n",
       "      <td>1581</td>\n",
       "      <td>3325</td>\n",
       "      <td>955</td>\n",
       "    </tr>\n",
       "    <tr>\n",
       "      <th>1</th>\n",
       "      <td>2</td>\n",
       "      <td>Yaourt Aromatisé Banane 100g</td>\n",
       "      <td>Yaourt Aromatisé</td>\n",
       "      <td>100</td>\n",
       "      <td>0.54</td>\n",
       "      <td>1/1/2024</td>\n",
       "      <td>1/31/2024</td>\n",
       "      <td>97708</td>\n",
       "      <td>70302</td>\n",
       "      <td>8269</td>\n",
       "      <td>17423</td>\n",
       "      <td>1714</td>\n",
       "    </tr>\n",
       "    <tr>\n",
       "      <th>2</th>\n",
       "      <td>3</td>\n",
       "      <td>Yaourt Aromatisé Vanille 100g</td>\n",
       "      <td>Yaourt Aromatisé</td>\n",
       "      <td>100</td>\n",
       "      <td>0.54</td>\n",
       "      <td>1/1/2024</td>\n",
       "      <td>1/31/2024</td>\n",
       "      <td>22590</td>\n",
       "      <td>18523</td>\n",
       "      <td>993</td>\n",
       "      <td>1513</td>\n",
       "      <td>1561</td>\n",
       "    </tr>\n",
       "    <tr>\n",
       "      <th>3</th>\n",
       "      <td>4</td>\n",
       "      <td>Yaourt Aromatisé Noix de coco 100g</td>\n",
       "      <td>Yaourt Aromatisé</td>\n",
       "      <td>100</td>\n",
       "      <td>0.54</td>\n",
       "      <td>1/1/2024</td>\n",
       "      <td>1/31/2024</td>\n",
       "      <td>24547</td>\n",
       "      <td>17087</td>\n",
       "      <td>1079</td>\n",
       "      <td>2772</td>\n",
       "      <td>3609</td>\n",
       "    </tr>\n",
       "    <tr>\n",
       "      <th>4</th>\n",
       "      <td>5</td>\n",
       "      <td>Yaourt aux Fruits Pêche Abricot 100g</td>\n",
       "      <td>Yaourt aux Fruits</td>\n",
       "      <td>100</td>\n",
       "      <td>0.84</td>\n",
       "      <td>1/1/2024</td>\n",
       "      <td>1/31/2024</td>\n",
       "      <td>44527</td>\n",
       "      <td>34933</td>\n",
       "      <td>2880</td>\n",
       "      <td>6110</td>\n",
       "      <td>604</td>\n",
       "    </tr>\n",
       "  </tbody>\n",
       "</table>\n",
       "</div>"
      ],
      "text/plain": [
       "   product_id                          product_name           category  \\\n",
       "0           1          Yaourt Aromatisé Fraise 100g   Yaourt Aromatisé   \n",
       "1           2          Yaourt Aromatisé Banane 100g   Yaourt Aromatisé   \n",
       "2           3         Yaourt Aromatisé Vanille 100g   Yaourt Aromatisé   \n",
       "3           4    Yaourt Aromatisé Noix de coco 100g   Yaourt Aromatisé   \n",
       "4           5  Yaourt aux Fruits Pêche Abricot 100g  Yaourt aux Fruits   \n",
       "\n",
       "   weight_g  price manufacturing_date expiry_date  production_quantity  \\\n",
       "0       100   0.54           1/1/2024   1/31/2024                27334   \n",
       "1       100   0.54           1/1/2024   1/31/2024                97708   \n",
       "2       100   0.54           1/1/2024   1/31/2024                22590   \n",
       "3       100   0.54           1/1/2024   1/31/2024                24547   \n",
       "4       100   0.84           1/1/2024   1/31/2024                44527   \n",
       "\n",
       "   sold_quantity  returned_quantity  damaged_quantity  unsold_quantity  \n",
       "0          21473               1581              3325              955  \n",
       "1          70302               8269             17423             1714  \n",
       "2          18523                993              1513             1561  \n",
       "3          17087               1079              2772             3609  \n",
       "4          34933               2880              6110              604  "
      ]
     },
     "execution_count": 48,
     "metadata": {},
     "output_type": "execute_result"
    }
   ],
   "source": [
    "df_trimester1.head()"
   ]
  },
  {
   "cell_type": "code",
   "execution_count": 49,
   "id": "dcd05a1a-55e2-4b71-b7c9-8280d1bd7357",
   "metadata": {},
   "outputs": [],
   "source": [
    "corrections = {\n",
    "    \"Yaourt Brassé Fraise Ba@ane 70g\": \"Yaourt Brassé Fraise Banane 70g\",\n",
    "    \"Vit'up Max@Vanille 260g\": \"Vit'up Max Vanille 260g\",\n",
    "    \"Yaourt aux Fruits Secs @00g\": \"Yaourt aux Fruits Secs 100g\",\n",
    "    \"Yaourt aux Fruits Mixés Mangue 10@g\": \"Yaourt aux Fruits Mixés Mangue 100g\",\n",
    "    \"Yaou@t aux Fruits Pêche Abricot 100g\": \"Yaourt aux Fruits Pêche Abricot 100g\",\n",
    "    \"Yaourt Brassé @iscuit-Vanille 70g\": \"Yaourt Brassé Biscuit-Vanille 70g\",\n",
    "    \"Yaourt Aromatisé@Vanille 100g\": \"Yaourt Aromatisé Vanille 100g\",\n",
    "    \"Grecos Nature Su@ré\": \"Grecos Nature Sucré\",\n",
    "    \"Vitupti Frais@ 100g\": \"Vitupti Fraise 100g\",\n",
    "    \"Yaourt aux Fruits Pêche Abricot 10@g\": \"Yaourt aux Fruits Pêche Abricot 100g\",\n",
    "    \"Yaourt Aromatise Fraise 100g\": \"Yaourt Aromatisé Fraise 100g\",\n",
    "    \"Yaourt Aromatise Vanille 100g\": \"Yaourt Aromatisé Vanille 100g\",\n",
    "    \"Yaourt Aromatise Noix de coco 100g\": \"Yaourt Aromatisé Noix de coco 100g\",\n",
    "    \"Yaourt Aromatise Banane 100g\": \"Yaourt Aromatisé Banane 100g\",\n",
    "    \"vitup Vanille 160g\": \"Vit'up Vanille 160g\",\n",
    "    \"vitup Max Vanille 260g\": \"Vit'up Max Vanille 260g\",\n",
    "    \"vitup Pinacolada 160g\": \"Vit'up Pinacolada 160g\",\n",
    "    \"vitup Pinacolada 260g\": \"Vit'up Pinacolada 260g\",\n",
    "    \"vitup Fraise 160g\": \"Vit'up Fraise 160g\",\n",
    "    \"vitup Max Fraise 260g\": \"Vit'up Max Fraise 260g\"\n",
    "}\n",
    "df[\"product_name\"] = df[\"product_name\"].replace(corrections)\n",
    "df_trimester1[\"product_name\"] = df_trimester1[\"product_name\"].replace(corrections)\n",
    "df_trimester2[\"product_name\"] = df_trimester2[\"product_name\"].replace(corrections)\n",
    "df_trimester3[\"product_name\"] = df_trimester3[\"product_name\"].replace(corrections)\n",
    "df_trimester4[\"product_name\"] = df_trimester4[\"product_name\"].replace(corrections)\n"
   ]
  },
  {
   "cell_type": "code",
   "execution_count": 50,
   "id": "60a05e41-738e-4427-8959-d14f71a18dba",
   "metadata": {},
   "outputs": [
    {
     "data": {
      "text/plain": [
       "product_name\n",
       "Yaourt Aromatisé Fraise 100g                  395\n",
       "Yaourt Aromatisé Banane 100g                  395\n",
       "Grecos Fraise                                 395\n",
       "Vit'up Max Vanille 260g                       394\n",
       "Bifi Aromatisé Citron 0% 100g                 394\n",
       "Yaourt aux Fruits Mixés Fraise 100g           393\n",
       "Vit'up Vanille 160g                           391\n",
       "Vitupti Fraise 100g                           390\n",
       "Yaourt aux Fruits Secs 100g                   389\n",
       "Yaourt Brassé Biscuit-Vanille 70g             388\n",
       "Yaourt Nature 100g                            388\n",
       "Yaourt aux Fruits cerise et framboise 100g    387\n",
       "Vit'up Pinacolada 160g                        386\n",
       "Grécos                                        386\n",
       "Yaourt Brassé Tutti Frutti 70g                385\n",
       "Grecos Nature Sucré                           385\n",
       "Yaourt Brassé Pistache 70g                    385\n",
       "Yaourt aux Fruits Pêche Abricot 100g          385\n",
       "Yaourt Aromatisé Vanille 100g                 384\n",
       "Vitupti Vanille 100g                          384\n",
       "Vit'up Max Fraise 260g                        384\n",
       "Yaourt aux Fruits Mixés Mangue 100g           383\n",
       "Yaourt Brassé Vanille 70g                     383\n",
       "Yaourt Aromatisé Noix de coco 100g            381\n",
       "Vit'up Pinacolada 260g                        381\n",
       "Yaourt Brassé Fraise Banane 70g               380\n",
       "Vit'up Fraise 160g                            380\n",
       "Name: count, dtype: int64"
      ]
     },
     "execution_count": 50,
     "metadata": {},
     "output_type": "execute_result"
    }
   ],
   "source": [
    "df[\"product_name\"].value_counts()"
   ]
  },
  {
   "cell_type": "markdown",
   "id": "af94a5a1-238e-4395-89d2-e97ea23d340f",
   "metadata": {},
   "source": [
    "### Remove Erroneous Values"
   ]
  },
  {
   "cell_type": "markdown",
   "id": "6540e4e8",
   "metadata": {},
   "source": [
    "After visiting the factory and gathering information on how the production machines operate, we found that for the most common yogurt type, there are four machines, each with a maximum production capacity of 80,000 units. Therefore, we must remove any production line with a quantity exceeding 360,000 units."
   ]
  },
  {
   "cell_type": "code",
   "execution_count": 51,
   "id": "2350e6b8-66b5-4277-bbcf-8146870f124b",
   "metadata": {},
   "outputs": [
    {
     "data": {
      "text/html": [
       "<div>\n",
       "<style scoped>\n",
       "    .dataframe tbody tr th:only-of-type {\n",
       "        vertical-align: middle;\n",
       "    }\n",
       "\n",
       "    .dataframe tbody tr th {\n",
       "        vertical-align: top;\n",
       "    }\n",
       "\n",
       "    .dataframe thead th {\n",
       "        text-align: right;\n",
       "    }\n",
       "</style>\n",
       "<table border=\"1\" class=\"dataframe\">\n",
       "  <thead>\n",
       "    <tr style=\"text-align: right;\">\n",
       "      <th></th>\n",
       "      <th>product_id</th>\n",
       "      <th>product_name</th>\n",
       "      <th>category</th>\n",
       "      <th>weight_g</th>\n",
       "      <th>price</th>\n",
       "      <th>manufacturing_date</th>\n",
       "      <th>expiry_date</th>\n",
       "      <th>production_quantity</th>\n",
       "      <th>sold_quantity</th>\n",
       "      <th>returned_quantity</th>\n",
       "      <th>damaged_quantity</th>\n",
       "      <th>unsold_quantity</th>\n",
       "    </tr>\n",
       "  </thead>\n",
       "  <tbody>\n",
       "    <tr>\n",
       "      <th>0</th>\n",
       "      <td>1</td>\n",
       "      <td>Yaourt Aromatisé Fraise 100g</td>\n",
       "      <td>Yaourt Aromatisé</td>\n",
       "      <td>100</td>\n",
       "      <td>0.54</td>\n",
       "      <td>1/1/2024</td>\n",
       "      <td>1/31/2024</td>\n",
       "      <td>27334</td>\n",
       "      <td>21473</td>\n",
       "      <td>1581</td>\n",
       "      <td>3325</td>\n",
       "      <td>955</td>\n",
       "    </tr>\n",
       "    <tr>\n",
       "      <th>1</th>\n",
       "      <td>2</td>\n",
       "      <td>Yaourt Aromatisé Banane 100g</td>\n",
       "      <td>Yaourt Aromatisé</td>\n",
       "      <td>100</td>\n",
       "      <td>0.54</td>\n",
       "      <td>1/1/2024</td>\n",
       "      <td>1/31/2024</td>\n",
       "      <td>97708</td>\n",
       "      <td>70302</td>\n",
       "      <td>8269</td>\n",
       "      <td>17423</td>\n",
       "      <td>1714</td>\n",
       "    </tr>\n",
       "    <tr>\n",
       "      <th>2</th>\n",
       "      <td>3</td>\n",
       "      <td>Yaourt Aromatisé Vanille 100g</td>\n",
       "      <td>Yaourt Aromatisé</td>\n",
       "      <td>100</td>\n",
       "      <td>0.54</td>\n",
       "      <td>1/1/2024</td>\n",
       "      <td>1/31/2024</td>\n",
       "      <td>22590</td>\n",
       "      <td>18523</td>\n",
       "      <td>993</td>\n",
       "      <td>1513</td>\n",
       "      <td>1561</td>\n",
       "    </tr>\n",
       "    <tr>\n",
       "      <th>3</th>\n",
       "      <td>4</td>\n",
       "      <td>Yaourt Aromatisé Noix de coco 100g</td>\n",
       "      <td>Yaourt Aromatisé</td>\n",
       "      <td>100</td>\n",
       "      <td>0.54</td>\n",
       "      <td>1/1/2024</td>\n",
       "      <td>1/31/2024</td>\n",
       "      <td>24547</td>\n",
       "      <td>17087</td>\n",
       "      <td>1079</td>\n",
       "      <td>2772</td>\n",
       "      <td>3609</td>\n",
       "    </tr>\n",
       "    <tr>\n",
       "      <th>4</th>\n",
       "      <td>5</td>\n",
       "      <td>Yaourt aux Fruits Pêche Abricot 100g</td>\n",
       "      <td>Yaourt aux Fruits</td>\n",
       "      <td>100</td>\n",
       "      <td>0.84</td>\n",
       "      <td>1/1/2024</td>\n",
       "      <td>1/31/2024</td>\n",
       "      <td>44527</td>\n",
       "      <td>34933</td>\n",
       "      <td>2880</td>\n",
       "      <td>6110</td>\n",
       "      <td>604</td>\n",
       "    </tr>\n",
       "  </tbody>\n",
       "</table>\n",
       "</div>"
      ],
      "text/plain": [
       "   product_id                          product_name           category  \\\n",
       "0           1          Yaourt Aromatisé Fraise 100g   Yaourt Aromatisé   \n",
       "1           2          Yaourt Aromatisé Banane 100g   Yaourt Aromatisé   \n",
       "2           3         Yaourt Aromatisé Vanille 100g   Yaourt Aromatisé   \n",
       "3           4    Yaourt Aromatisé Noix de coco 100g   Yaourt Aromatisé   \n",
       "4           5  Yaourt aux Fruits Pêche Abricot 100g  Yaourt aux Fruits   \n",
       "\n",
       "   weight_g  price manufacturing_date expiry_date  production_quantity  \\\n",
       "0       100   0.54           1/1/2024   1/31/2024                27334   \n",
       "1       100   0.54           1/1/2024   1/31/2024                97708   \n",
       "2       100   0.54           1/1/2024   1/31/2024                22590   \n",
       "3       100   0.54           1/1/2024   1/31/2024                24547   \n",
       "4       100   0.84           1/1/2024   1/31/2024                44527   \n",
       "\n",
       "   sold_quantity  returned_quantity  damaged_quantity  unsold_quantity  \n",
       "0          21473               1581              3325              955  \n",
       "1          70302               8269             17423             1714  \n",
       "2          18523                993              1513             1561  \n",
       "3          17087               1079              2772             3609  \n",
       "4          34933               2880              6110              604  "
      ]
     },
     "execution_count": 51,
     "metadata": {},
     "output_type": "execute_result"
    }
   ],
   "source": [
    "df_trimester1.head()\n"
   ]
  },
  {
   "cell_type": "code",
   "execution_count": 52,
   "id": "e8c30b65",
   "metadata": {},
   "outputs": [
    {
     "data": {
      "text/html": [
       "<div>\n",
       "<style scoped>\n",
       "    .dataframe tbody tr th:only-of-type {\n",
       "        vertical-align: middle;\n",
       "    }\n",
       "\n",
       "    .dataframe tbody tr th {\n",
       "        vertical-align: top;\n",
       "    }\n",
       "\n",
       "    .dataframe thead th {\n",
       "        text-align: right;\n",
       "    }\n",
       "</style>\n",
       "<table border=\"1\" class=\"dataframe\">\n",
       "  <thead>\n",
       "    <tr style=\"text-align: right;\">\n",
       "      <th></th>\n",
       "      <th>product_id</th>\n",
       "      <th>weight_g</th>\n",
       "      <th>production_quantity</th>\n",
       "      <th>sold_quantity</th>\n",
       "      <th>returned_quantity</th>\n",
       "      <th>damaged_quantity</th>\n",
       "      <th>unsold_quantity</th>\n",
       "    </tr>\n",
       "  </thead>\n",
       "  <tbody>\n",
       "    <tr>\n",
       "      <th>count</th>\n",
       "      <td>10451.000000</td>\n",
       "      <td>10451.000000</td>\n",
       "      <td>1.045100e+04</td>\n",
       "      <td>1.045100e+04</td>\n",
       "      <td>10451.000000</td>\n",
       "      <td>10451.000000</td>\n",
       "      <td>10451.000000</td>\n",
       "    </tr>\n",
       "    <tr>\n",
       "      <th>mean</th>\n",
       "      <td>4916.217491</td>\n",
       "      <td>118.871878</td>\n",
       "      <td>1.742163e+04</td>\n",
       "      <td>1.314593e+04</td>\n",
       "      <td>785.456607</td>\n",
       "      <td>1448.414697</td>\n",
       "      <td>2041.826524</td>\n",
       "    </tr>\n",
       "    <tr>\n",
       "      <th>std</th>\n",
       "      <td>2841.213650</td>\n",
       "      <td>55.200721</td>\n",
       "      <td>6.388511e+04</td>\n",
       "      <td>5.520504e+04</td>\n",
       "      <td>1854.568524</td>\n",
       "      <td>3295.934602</td>\n",
       "      <td>7707.703271</td>\n",
       "    </tr>\n",
       "    <tr>\n",
       "      <th>min</th>\n",
       "      <td>1.000000</td>\n",
       "      <td>70.000000</td>\n",
       "      <td>3.601000e+03</td>\n",
       "      <td>2.529000e+03</td>\n",
       "      <td>1.000000</td>\n",
       "      <td>1.000000</td>\n",
       "      <td>-1.000000</td>\n",
       "    </tr>\n",
       "    <tr>\n",
       "      <th>25%</th>\n",
       "      <td>2452.500000</td>\n",
       "      <td>100.000000</td>\n",
       "      <td>4.644500e+03</td>\n",
       "      <td>3.290000e+03</td>\n",
       "      <td>158.000000</td>\n",
       "      <td>316.000000</td>\n",
       "      <td>476.000000</td>\n",
       "    </tr>\n",
       "    <tr>\n",
       "      <th>50%</th>\n",
       "      <td>4910.000000</td>\n",
       "      <td>100.000000</td>\n",
       "      <td>6.457000e+03</td>\n",
       "      <td>3.851000e+03</td>\n",
       "      <td>292.000000</td>\n",
       "      <td>556.000000</td>\n",
       "      <td>1173.000000</td>\n",
       "    </tr>\n",
       "    <tr>\n",
       "      <th>75%</th>\n",
       "      <td>7372.500000</td>\n",
       "      <td>100.000000</td>\n",
       "      <td>1.696750e+04</td>\n",
       "      <td>1.239550e+04</td>\n",
       "      <td>614.000000</td>\n",
       "      <td>1156.000000</td>\n",
       "      <td>2267.000000</td>\n",
       "    </tr>\n",
       "    <tr>\n",
       "      <th>max</th>\n",
       "      <td>9855.000000</td>\n",
       "      <td>260.000000</td>\n",
       "      <td>4.175700e+06</td>\n",
       "      <td>3.883401e+06</td>\n",
       "      <td>30354.000000</td>\n",
       "      <td>66280.000000</td>\n",
       "      <td>473123.000000</td>\n",
       "    </tr>\n",
       "  </tbody>\n",
       "</table>\n",
       "</div>"
      ],
      "text/plain": [
       "         product_id      weight_g  production_quantity  sold_quantity  \\\n",
       "count  10451.000000  10451.000000         1.045100e+04   1.045100e+04   \n",
       "mean    4916.217491    118.871878         1.742163e+04   1.314593e+04   \n",
       "std     2841.213650     55.200721         6.388511e+04   5.520504e+04   \n",
       "min        1.000000     70.000000         3.601000e+03   2.529000e+03   \n",
       "25%     2452.500000    100.000000         4.644500e+03   3.290000e+03   \n",
       "50%     4910.000000    100.000000         6.457000e+03   3.851000e+03   \n",
       "75%     7372.500000    100.000000         1.696750e+04   1.239550e+04   \n",
       "max     9855.000000    260.000000         4.175700e+06   3.883401e+06   \n",
       "\n",
       "       returned_quantity  damaged_quantity  unsold_quantity  \n",
       "count       10451.000000      10451.000000     10451.000000  \n",
       "mean          785.456607       1448.414697      2041.826524  \n",
       "std          1854.568524       3295.934602      7707.703271  \n",
       "min             1.000000          1.000000        -1.000000  \n",
       "25%           158.000000        316.000000       476.000000  \n",
       "50%           292.000000        556.000000      1173.000000  \n",
       "75%           614.000000       1156.000000      2267.000000  \n",
       "max         30354.000000      66280.000000    473123.000000  "
      ]
     },
     "execution_count": 52,
     "metadata": {},
     "output_type": "execute_result"
    }
   ],
   "source": [
    "df.describe()"
   ]
  },
  {
   "cell_type": "code",
   "execution_count": 68,
   "id": "8fcad255-93ed-433c-b04f-5ce062bdb9eb",
   "metadata": {},
   "outputs": [
    {
     "name": "stderr",
     "output_type": "stream",
     "text": [
      "C:\\Users\\alaak\\AppData\\Local\\Temp\\ipykernel_7400\\891365420.py:17: FutureWarning: \n",
      "\n",
      "Passing `palette` without assigning `hue` is deprecated and will be removed in v0.14.0. Assign the `x` variable to `hue` and set `legend=False` for the same effect.\n",
      "\n",
      "  ax =sns.barplot(x=\"Trimester\", y=\"Total Sales\", data=df_sales, palette=\"coolwarm\")\n"
     ]
    },
    {
     "data": {
      "image/png": "[encoded data removed]",
      "text/plain": [
       "<Figure size 800x500 with 1 Axes>"
      ]
     },
     "metadata": {},
     "output_type": "display_data"
    }
   ],
   "source": [
    "sales_data = {\n",
    "    \"Trimester\": [\"T1\", \"T2\", \"T3\", \"T4\"],\n",
    "    \"Total Sales\": [\n",
    "        df_trimester1['sold_quantity'].sum(),\n",
    "        df_trimester2['sold_quantity'].sum(),\n",
    "        df_trimester1['sold_quantity'].sum(),\n",
    "        df_trimester1['sold_quantity'].sum()\n",
    "    ]\n",
    "}\n",
    "\n",
    "# Convert to DataFrame\n",
    "df_sales = pd.DataFrame(sales_data)\n",
    "\n",
    "# Plot the trimester sales\n",
    "\n",
    "plt.figure(figsize=(8,5))\n",
    "ax =sns.barplot(x=\"Trimester\", y=\"Total Sales\", data=df_sales, palette=\"coolwarm\")\n",
    "max_sales = df_sales[\"Total Sales\"].max()\n",
    "plt.ylim(0, max_sales * 1.1) \n",
    "# Labels and title\n",
    "ax.yaxis.set_major_formatter(ticker.FuncFormatter(lambda x, _: f'{x/1e6:.1f}M'))\n",
    "for i, value in enumerate(df_sales[\"Total Sales\"]):\n",
    "    ax.text(i, value + (value * 0.02), f'{value/1e6:.1f}M', ha='center', fontsize=12, fontweight='bold', color='black')\n",
    "\n",
    "plt.xlabel(\"Trimester\")\n",
    "plt.ylabel(\"Total Sold Quantity\")\n",
    "plt.title(\"Total Sales per Trimester\")\n",
    "\n",
    "# Show the plot\n",
    "plt.show()"
   ]
  },
  {
   "cell_type": "code",
   "execution_count": 117,
   "id": "af380c56",
   "metadata": {},
   "outputs": [
    {
     "data": {
      "image/png": "[encoded data removed]",
      "text/plain": [
       "<Figure size 1500x1200 with 1 Axes>"
      ]
     },
     "metadata": {},
     "output_type": "display_data"
    }
   ],
   "source": [
    "def get_top5(df, semester_name):\n",
    "    top5 = df.groupby(\"product_name\")[\"sold_quantity\"].sum().nlargest(5).reset_index()\n",
    "    top5[\"Semester\"] = semester_name  # Add semester name column\n",
    "    return top5\n",
    "\n",
    "# Get top 3 products from each semester\n",
    "df_top5_s1 = get_top5(df_trimester1, \"S1\")\n",
    "df_top5_s2 = get_top5(df_trimester2, \"S2\")\n",
    "df_top5_s3 = get_top5(df_trimester3, \"S3\")\n",
    "df_top5_s4 = get_top5(df_trimester4, \"S4\")\n",
    "\n",
    "# Combine data into one DataFrame\n",
    "df_top5 = pd.concat([df_top5_s1, df_top5_s2, df_top5_s3, df_top5_s4])\n",
    "max_product=df_top5['sold_quantity'].max()\n",
    "min_product=df_top5['sold_quantity'].min()\n",
    "# Plot\n",
    "plt.figure(figsize=(15,12))\n",
    "ax = sns.barplot(x=\"Semester\", y=\"sold_quantity\", hue=\"product_name\", data=df_top5, palette=\"coolwarm\")\n",
    "ax.yaxis.set_major_formatter(ticker.FuncFormatter(lambda x, _: f'{x/1e6:.1f}M'))\n",
    "\n",
    "# Labels and title\n",
    "plt.xlabel(\"Semester\")\n",
    "plt.ylabel(\"Total Sold Quantity\")\n",
    "plt.title(\"Top 5 Products by Sales in Each Semester\")\n",
    "# Show values on top of bars\n",
    "# for p in ax.patches:\n",
    "#     ax.annotate(f'{int(p.get_height()):,}', \n",
    "#                 (p.get_x() + p.get_width() / 2, p.get_height()), \n",
    "#                 ha='center', va='bottom', fontsize=12, fontweight='bold', color='black')\n",
    "\n",
    "plt.legend(title=\"Product Name\", loc=\"upper right\", bbox_to_anchor=(1, 1), fontsize=6, title_fontsize=6)\n",
    "plt.show()\n"
   ]
  },
  {
   "cell_type": "code",
   "execution_count": 75,
   "id": "b06c79a9-edc0-45c6-92a5-7dc865c2b3c6",
   "metadata": {},
   "outputs": [
    {
     "data": {
      "text/html": [
       "<div>\n",
       "<style scoped>\n",
       "    .dataframe tbody tr th:only-of-type {\n",
       "        vertical-align: middle;\n",
       "    }\n",
       "\n",
       "    .dataframe tbody tr th {\n",
       "        vertical-align: top;\n",
       "    }\n",
       "\n",
       "    .dataframe thead th {\n",
       "        text-align: right;\n",
       "    }\n",
       "</style>\n",
       "<table border=\"1\" class=\"dataframe\">\n",
       "  <thead>\n",
       "    <tr style=\"text-align: right;\">\n",
       "      <th></th>\n",
       "      <th>product_name</th>\n",
       "      <th>sold_quantity</th>\n",
       "      <th>Semester</th>\n",
       "    </tr>\n",
       "  </thead>\n",
       "  <tbody>\n",
       "    <tr>\n",
       "      <th>0</th>\n",
       "      <td>Yaourt Aromatisé Fraise 100g</td>\n",
       "      <td>8991556</td>\n",
       "      <td>S1</td>\n",
       "    </tr>\n",
       "    <tr>\n",
       "      <th>1</th>\n",
       "      <td>Yaourt Aromatisé Banane 100g</td>\n",
       "      <td>3645579</td>\n",
       "      <td>S1</td>\n",
       "    </tr>\n",
       "    <tr>\n",
       "      <th>2</th>\n",
       "      <td>Yaourt Aromatisé Vanille 100g</td>\n",
       "      <td>3202043</td>\n",
       "      <td>S1</td>\n",
       "    </tr>\n",
       "    <tr>\n",
       "      <th>0</th>\n",
       "      <td>Yaourt Aromatisé Fraise 100g</td>\n",
       "      <td>9568213</td>\n",
       "      <td>S2</td>\n",
       "    </tr>\n",
       "    <tr>\n",
       "      <th>1</th>\n",
       "      <td>Yaourt Aromatisé Banane 100g</td>\n",
       "      <td>4174542</td>\n",
       "      <td>S2</td>\n",
       "    </tr>\n",
       "    <tr>\n",
       "      <th>2</th>\n",
       "      <td>Yaourt Aromatisé Noix de coco 100g</td>\n",
       "      <td>2440526</td>\n",
       "      <td>S2</td>\n",
       "    </tr>\n",
       "    <tr>\n",
       "      <th>0</th>\n",
       "      <td>Yaourt Aromatisé Fraise 100g</td>\n",
       "      <td>10122135</td>\n",
       "      <td>S3</td>\n",
       "    </tr>\n",
       "    <tr>\n",
       "      <th>1</th>\n",
       "      <td>Yaourt Aromatisé Banane 100g</td>\n",
       "      <td>4043940</td>\n",
       "      <td>S3</td>\n",
       "    </tr>\n",
       "    <tr>\n",
       "      <th>2</th>\n",
       "      <td>Yaourt Aromatisé Vanille 100g</td>\n",
       "      <td>2954095</td>\n",
       "      <td>S3</td>\n",
       "    </tr>\n",
       "    <tr>\n",
       "      <th>0</th>\n",
       "      <td>Yaourt Aromatisé Banane 100g</td>\n",
       "      <td>9781223</td>\n",
       "      <td>S4</td>\n",
       "    </tr>\n",
       "    <tr>\n",
       "      <th>1</th>\n",
       "      <td>Yaourt Aromatisé Fraise 100g</td>\n",
       "      <td>7798978</td>\n",
       "      <td>S4</td>\n",
       "    </tr>\n",
       "    <tr>\n",
       "      <th>2</th>\n",
       "      <td>Yaourt Aromatisé Vanille 100g</td>\n",
       "      <td>3673127</td>\n",
       "      <td>S4</td>\n",
       "    </tr>\n",
       "  </tbody>\n",
       "</table>\n",
       "</div>"
      ],
      "text/plain": [
       "                         product_name  sold_quantity Semester\n",
       "0        Yaourt Aromatisé Fraise 100g        8991556       S1\n",
       "1        Yaourt Aromatisé Banane 100g        3645579       S1\n",
       "2       Yaourt Aromatisé Vanille 100g        3202043       S1\n",
       "0        Yaourt Aromatisé Fraise 100g        9568213       S2\n",
       "1        Yaourt Aromatisé Banane 100g        4174542       S2\n",
       "2  Yaourt Aromatisé Noix de coco 100g        2440526       S2\n",
       "0        Yaourt Aromatisé Fraise 100g       10122135       S3\n",
       "1        Yaourt Aromatisé Banane 100g        4043940       S3\n",
       "2       Yaourt Aromatisé Vanille 100g        2954095       S3\n",
       "0        Yaourt Aromatisé Banane 100g        9781223       S4\n",
       "1        Yaourt Aromatisé Fraise 100g        7798978       S4\n",
       "2       Yaourt Aromatisé Vanille 100g        3673127       S4"
      ]
     },
     "execution_count": 75,
     "metadata": {},
     "output_type": "execute_result"
    }
   ],
   "source": []
  },
  {
   "cell_type": "code",
   "execution_count": 120,
   "id": "7af2103a-085f-4de0-8aff-5dd0bad10af1",
   "metadata": {},
   "outputs": [
    {
     "name": "stderr",
     "output_type": "stream",
     "text": [
      "C:\\Users\\alaak\\AppData\\Local\\Temp\\ipykernel_7400\\2075661106.py:11: FutureWarning: \n",
      "\n",
      "Passing `palette` without assigning `hue` is deprecated and will be removed in v0.14.0. Assign the `x` variable to `hue` and set `legend=False` for the same effect.\n",
      "\n",
      "  ax = sns.barplot(x=\"product_name\", y=\"sales_per_quantity\", data=df_top5_products, palette=\"coolwarm\")\n"
     ]
    },
    {
     "data": {
      "image/png": "[encoded data removed]",
      "text/plain": [
       "<Figure size 1400x1200 with 1 Axes>"
      ]
     },
     "metadata": {},
     "output_type": "display_data"
    }
   ],
   "source": [
    "df_product_sales = df.groupby(\"product_name\").agg(\n",
    "    total_sales=('sold_quantity', 'sum'),\n",
    "    total_produced=('production_quantity', 'sum')\n",
    ").reset_index()\n",
    "\n",
    "df_product_sales['sales_per_quantity'] = df_product_sales['total_sales'] / df_product_sales['total_produced']\n",
    "df_top5_products = df_product_sales.nlargest(5, \"sales_per_quantity\")\n",
    "maxp=df_product_sales['sales_per_quantity'].max()\n",
    "minp=df_product_sales['sales_per_quantity'].min()\n",
    "plt.figure(figsize=(14,12))\n",
    "ax = sns.barplot(x=\"product_name\", y=\"sales_per_quantity\", data=df_top5_products, palette=\"coolwarm\")\n",
    "ax.yaxis.set_major_formatter(ticker.FuncFormatter(lambda x, _: f'{x*100:.1f}%'))\n",
    "plt.xlabel(\"Product Name\")\n",
    "plt.ylabel(\"Sales per Quantity Produced\")\n",
    "plt.title(\"Top 5 Products by Sales-to-Quantity Ratio\")\n",
    "plt.show()"
   ]
  },
  {
   "cell_type": "code",
   "execution_count": null,
   "id": "19f1aa56-e6ff-47fa-9c14-438fbf6bd42c",
   "metadata": {},
   "outputs": [],
   "source": []
  }
 ],
 "metadata": {
  "kernelspec": {
   "display_name": "Python 3 (ipykernel)",
   "language": "python",
   "name": "python3"
  },
  "language_info": {
   "codemirror_mode": {
    "name": "ipython",
    "version": 3
   },
   "file_extension": ".py",
   "mimetype": "text/x-python",
   "name": "python",
   "nbconvert_exporter": "python",
   "pygments_lexer": "ipython3",
   "version": "3.11.9"
  }
 },
 "nbformat": 4,
 "nbformat_minor": 5
}
