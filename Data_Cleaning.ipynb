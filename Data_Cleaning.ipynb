{
 "cells": [
  {
   "cell_type": "markdown",
   "id": "710f6557-cc09-4007-a733-45a918de8085",
   "metadata": {},
   "source": [
    "### Reading In Files "
   ]
  },
  {
   "cell_type": "code",
   "execution_count": 31,
   "id": "33ba1145-81b6-4c64-8c20-5ab1735b630d",
   "metadata": {},
   "outputs": [],
   "source": [
    "import pandas as pd\n",
    "import numpy as np\n",
    "import matplotlib.pyplot as plt\n",
    "import seaborn as sns\n",
    "from scipy import stats\n"
   ]
  },
  {
   "cell_type": "code",
   "execution_count": 2,
   "id": "da206485-78ff-4ccc-a152-4e7ed018b9d0",
   "metadata": {},
   "outputs": [],
   "source": [
    "df_semester1=pd.read_csv(r\"C:\\Users\\alaak\\Downloads\\inventory_semester_1.csv\")\n",
    "df_semester2=pd.read_csv(r\"C:\\Users\\alaak\\Downloads\\inventory_semester_2.csv\")\n",
    "df_semester3=pd.read_csv(r\"C:\\Users\\alaak\\Downloads\\inventory_semester_3.csv\")\n",
    "df_semester4=pd.read_csv(r\"C:\\Users\\alaak\\Downloads\\inventory_semester_4.csv\")"
   ]
  },
  {
   "cell_type": "markdown",
   "id": "4ff53135-7474-4c2b-a0b7-2194a7fd6df0",
   "metadata": {},
   "source": [
    "### Check for Duplicates"
   ]
  },
  {
   "cell_type": "code",
   "execution_count": 3,
   "id": "1b56a8a9-754e-4e3e-875c-b67cff96864f",
   "metadata": {},
   "outputs": [
    {
     "name": "stdout",
     "output_type": "stream",
     "text": [
      "146\n",
      "176\n",
      "151\n",
      "137\n"
     ]
    }
   ],
   "source": [
    "print(df_semester1.duplicated().sum())\n",
    "print(df_semester2.duplicated().sum())\n",
    "print(df_semester3.duplicated().sum())\n",
    "print(df_semester4.duplicated().sum())\n"
   ]
  },
  {
   "cell_type": "markdown",
   "id": "a2060141-8bdf-472f-86d4-cc6d01685076",
   "metadata": {},
   "source": [
    "### Remove Duplicates"
   ]
  },
  {
   "cell_type": "code",
   "execution_count": 4,
   "id": "000a00c5-419e-4075-975b-04eb566d440a",
   "metadata": {},
   "outputs": [
    {
     "name": "stdout",
     "output_type": "stream",
     "text": [
      "0\n",
      "0\n",
      "0\n",
      "0\n"
     ]
    }
   ],
   "source": [
    "df_semester1=df_semester1.drop_duplicates()\n",
    "df_semester2=df_semester2.drop_duplicates()\n",
    "df_semester3=df_semester3.drop_duplicates()\n",
    "df_semester4=df_semester4.drop_duplicates()\n",
    "print(df_semester1.duplicated().sum())\n",
    "print(df_semester2.duplicated().sum())\n",
    "print(df_semester3.duplicated().sum())\n",
    "print(df_semester4.duplicated().sum())"
   ]
  },
  {
   "cell_type": "markdown",
   "id": "905c3bfa-f857-43fe-a562-e184f9a8b6ce",
   "metadata": {},
   "source": [
    "### Check the first few rows"
   ]
  },
  {
   "cell_type": "code",
   "execution_count": 5,
   "id": "e567b3e5-c5e3-46e3-a358-3fe665159a79",
   "metadata": {},
   "outputs": [
    {
     "data": {
      "text/html": [
       "<div>\n",
       "<style scoped>\n",
       "    .dataframe tbody tr th:only-of-type {\n",
       "        vertical-align: middle;\n",
       "    }\n",
       "\n",
       "    .dataframe tbody tr th {\n",
       "        vertical-align: top;\n",
       "    }\n",
       "\n",
       "    .dataframe thead th {\n",
       "        text-align: right;\n",
       "    }\n",
       "</style>\n",
       "<table border=\"1\" class=\"dataframe\">\n",
       "  <thead>\n",
       "    <tr style=\"text-align: right;\">\n",
       "      <th></th>\n",
       "      <th>product_id</th>\n",
       "      <th>product_name</th>\n",
       "      <th>category</th>\n",
       "      <th>weight_g</th>\n",
       "      <th>price</th>\n",
       "      <th>manufacturing_date</th>\n",
       "      <th>expiry_date</th>\n",
       "      <th>production_quantity</th>\n",
       "      <th>sold_quantity</th>\n",
       "      <th>returned_quantity</th>\n",
       "      <th>damaged_quantity</th>\n",
       "    </tr>\n",
       "  </thead>\n",
       "  <tbody>\n",
       "    <tr>\n",
       "      <th>0</th>\n",
       "      <td>7399</td>\n",
       "      <td>Yaourt Aromatisé Fraise 100g</td>\n",
       "      <td>Yaourt Aromatisé</td>\n",
       "      <td>100</td>\n",
       "      <td>0.54</td>\n",
       "      <td>10/1/2024</td>\n",
       "      <td>10/31/2024</td>\n",
       "      <td>89653</td>\n",
       "      <td>83377</td>\n",
       "      <td>2623</td>\n",
       "      <td>3308</td>\n",
       "    </tr>\n",
       "    <tr>\n",
       "      <th>1</th>\n",
       "      <td>7400</td>\n",
       "      <td>Yaourt Aromatise Banane 100g</td>\n",
       "      <td>Yaourt Aromatisé</td>\n",
       "      <td>100</td>\n",
       "      <td>0.54</td>\n",
       "      <td>10/1/2024</td>\n",
       "      <td>10/31/2024</td>\n",
       "      <td>51460</td>\n",
       "      <td>43716</td>\n",
       "      <td>3359</td>\n",
       "      <td>3511</td>\n",
       "    </tr>\n",
       "    <tr>\n",
       "      <th>2</th>\n",
       "      <td>7401</td>\n",
       "      <td>Yaourt Aromatisé Vanille 100g</td>\n",
       "      <td>Yaourt Aromatisé</td>\n",
       "      <td>100</td>\n",
       "      <td>0.54</td>\n",
       "      <td>10/1/2024</td>\n",
       "      <td>10/31/2024</td>\n",
       "      <td>23605</td>\n",
       "      <td>18189</td>\n",
       "      <td>2007</td>\n",
       "      <td>2109</td>\n",
       "    </tr>\n",
       "    <tr>\n",
       "      <th>3</th>\n",
       "      <td>7402</td>\n",
       "      <td>Yaourt Aromatisé Noix de coco 100g</td>\n",
       "      <td>Yaourt Aromatisé</td>\n",
       "      <td>100</td>\n",
       "      <td>0.54</td>\n",
       "      <td>10/1/2024</td>\n",
       "      <td>10/31/2024</td>\n",
       "      <td>23752</td>\n",
       "      <td>16234</td>\n",
       "      <td>2117</td>\n",
       "      <td>4059</td>\n",
       "    </tr>\n",
       "    <tr>\n",
       "      <th>4</th>\n",
       "      <td>7403</td>\n",
       "      <td>Yaourt aux Fruits Pêche Abricot 100g</td>\n",
       "      <td>Yaourt aux Fruits</td>\n",
       "      <td>100</td>\n",
       "      <td>0.84</td>\n",
       "      <td>10/1/2024</td>\n",
       "      <td>10/31/2024</td>\n",
       "      <td>32987</td>\n",
       "      <td>NaN</td>\n",
       "      <td>2997</td>\n",
       "      <td>4058</td>\n",
       "    </tr>\n",
       "  </tbody>\n",
       "</table>\n",
       "</div>"
      ],
      "text/plain": [
       "   product_id                          product_name           category  \\\n",
       "0        7399          Yaourt Aromatisé Fraise 100g   Yaourt Aromatisé   \n",
       "1        7400          Yaourt Aromatise Banane 100g   Yaourt Aromatisé   \n",
       "2        7401         Yaourt Aromatisé Vanille 100g   Yaourt Aromatisé   \n",
       "3        7402    Yaourt Aromatisé Noix de coco 100g   Yaourt Aromatisé   \n",
       "4        7403  Yaourt aux Fruits Pêche Abricot 100g  Yaourt aux Fruits   \n",
       "\n",
       "   weight_g price manufacturing_date expiry_date  production_quantity  \\\n",
       "0       100  0.54          10/1/2024  10/31/2024                89653   \n",
       "1       100  0.54          10/1/2024  10/31/2024                51460   \n",
       "2       100  0.54          10/1/2024  10/31/2024                23605   \n",
       "3       100  0.54          10/1/2024  10/31/2024                23752   \n",
       "4       100  0.84          10/1/2024  10/31/2024                32987   \n",
       "\n",
       "  sold_quantity returned_quantity damaged_quantity  \n",
       "0         83377              2623             3308  \n",
       "1         43716              3359             3511  \n",
       "2         18189              2007             2109  \n",
       "3         16234              2117             4059  \n",
       "4           NaN              2997             4058  "
      ]
     },
     "execution_count": 5,
     "metadata": {},
     "output_type": "execute_result"
    }
   ],
   "source": [
    "df_semester1.head()\n",
    "df_semester2.head()\n",
    "df_semester3.head()\n",
    "df_semester4.head()"
   ]
  },
  {
   "cell_type": "markdown",
   "id": "b9dfa884-851d-4cea-99cb-e9f4453c6725",
   "metadata": {},
   "source": [
    "### Get the Summary of The DataFrame"
   ]
  },
  {
   "cell_type": "code",
   "execution_count": 6,
   "id": "903c990d-45f9-4aaa-acf3-920ee9f4d99c",
   "metadata": {},
   "outputs": [
    {
     "name": "stdout",
     "output_type": "stream",
     "text": [
      "<class 'pandas.core.frame.DataFrame'>\n",
      "Index: 2618 entries, 0 to 2761\n",
      "Data columns (total 11 columns):\n",
      " #   Column               Non-Null Count  Dtype  \n",
      "---  ------               --------------  -----  \n",
      " 0   product_id           2618 non-null   int64  \n",
      " 1   product_name         2618 non-null   object \n",
      " 2   category             2618 non-null   object \n",
      " 3   weight_g             2618 non-null   int64  \n",
      " 4   price                2618 non-null   float64\n",
      " 5   manufacturing_date   2618 non-null   object \n",
      " 6   expiry_date          2618 non-null   object \n",
      " 7   production_quantity  2618 non-null   int64  \n",
      " 8   sold_quantity        2405 non-null   object \n",
      " 9   returned_quantity    2433 non-null   object \n",
      " 10  damaged_quantity     2417 non-null   object \n",
      "dtypes: float64(1), int64(3), object(7)\n",
      "memory usage: 245.4+ KB\n",
      "<class 'pandas.core.frame.DataFrame'>\n",
      "Index: 2612 entries, 0 to 2785\n",
      "Data columns (total 11 columns):\n",
      " #   Column               Non-Null Count  Dtype \n",
      "---  ------               --------------  ----- \n",
      " 0   product_id           2612 non-null   int64 \n",
      " 1   product_name         2612 non-null   object\n",
      " 2   category             2612 non-null   object\n",
      " 3   weight_g             2612 non-null   int64 \n",
      " 4   price                2612 non-null   object\n",
      " 5   manufacturing_date   2612 non-null   object\n",
      " 6   expiry_date          2612 non-null   object\n",
      " 7   production_quantity  2612 non-null   int64 \n",
      " 8   sold_quantity        2359 non-null   object\n",
      " 9   returned_quantity    2461 non-null   object\n",
      " 10  damaged_quantity     2403 non-null   object\n",
      "dtypes: int64(3), object(8)\n",
      "memory usage: 244.9+ KB\n",
      "<class 'pandas.core.frame.DataFrame'>\n",
      "Index: 2637 entries, 0 to 2784\n",
      "Data columns (total 11 columns):\n",
      " #   Column               Non-Null Count  Dtype \n",
      "---  ------               --------------  ----- \n",
      " 0   product_id           2637 non-null   int64 \n",
      " 1   product_name         2637 non-null   object\n",
      " 2   category             2637 non-null   object\n",
      " 3   weight_g             2637 non-null   int64 \n",
      " 4   price                2637 non-null   object\n",
      " 5   manufacturing_date   2637 non-null   object\n",
      " 6   expiry_date          2637 non-null   object\n",
      " 7   production_quantity  2637 non-null   int64 \n",
      " 8   sold_quantity        2413 non-null   object\n",
      " 9   returned_quantity    2470 non-null   object\n",
      " 10  damaged_quantity     2435 non-null   object\n",
      "dtypes: int64(3), object(8)\n",
      "memory usage: 247.2+ KB\n",
      "<class 'pandas.core.frame.DataFrame'>\n",
      "Index: 2584 entries, 0 to 2717\n",
      "Data columns (total 11 columns):\n",
      " #   Column               Non-Null Count  Dtype \n",
      "---  ------               --------------  ----- \n",
      " 0   product_id           2584 non-null   int64 \n",
      " 1   product_name         2584 non-null   object\n",
      " 2   category             2584 non-null   object\n",
      " 3   weight_g             2584 non-null   int64 \n",
      " 4   price                2584 non-null   object\n",
      " 5   manufacturing_date   2584 non-null   object\n",
      " 6   expiry_date          2584 non-null   object\n",
      " 7   production_quantity  2584 non-null   int64 \n",
      " 8   sold_quantity        2366 non-null   object\n",
      " 9   returned_quantity    2425 non-null   object\n",
      " 10  damaged_quantity     2366 non-null   object\n",
      "dtypes: int64(3), object(8)\n",
      "memory usage: 242.2+ KB\n"
     ]
    }
   ],
   "source": [
    "df_semester1.info()\n",
    "df_semester2.info()\n",
    "df_semester3.info()\n",
    "df_semester4.info()\n"
   ]
  },
  {
   "cell_type": "markdown",
   "id": "bf361634-aa4a-47f0-81ed-37ddd46ff2c1",
   "metadata": {},
   "source": [
    "### Check the Nulls"
   ]
  },
  {
   "cell_type": "code",
   "execution_count": 7,
   "id": "b2ba09fd-2def-4f31-98cf-fa27e8567d40",
   "metadata": {
    "scrolled": true
   },
   "outputs": [
    {
     "name": "stdout",
     "output_type": "stream",
     "text": [
      "product_id               0\n",
      "product_name             0\n",
      "category                 0\n",
      "weight_g                 0\n",
      "price                    0\n",
      "manufacturing_date       0\n",
      "expiry_date              0\n",
      "production_quantity      0\n",
      "sold_quantity          213\n",
      "returned_quantity      185\n",
      "damaged_quantity       201\n",
      "dtype: int64\n",
      "product_id               0\n",
      "product_name             0\n",
      "category                 0\n",
      "weight_g                 0\n",
      "price                    0\n",
      "manufacturing_date       0\n",
      "expiry_date              0\n",
      "production_quantity      0\n",
      "sold_quantity          253\n",
      "returned_quantity      151\n",
      "damaged_quantity       209\n",
      "dtype: int64\n",
      "product_id               0\n",
      "product_name             0\n",
      "category                 0\n",
      "weight_g                 0\n",
      "price                    0\n",
      "manufacturing_date       0\n",
      "expiry_date              0\n",
      "production_quantity      0\n",
      "sold_quantity          224\n",
      "returned_quantity      167\n",
      "damaged_quantity       202\n",
      "dtype: int64\n",
      "product_id               0\n",
      "product_name             0\n",
      "category                 0\n",
      "weight_g                 0\n",
      "price                    0\n",
      "manufacturing_date       0\n",
      "expiry_date              0\n",
      "production_quantity      0\n",
      "sold_quantity          218\n",
      "returned_quantity      159\n",
      "damaged_quantity       218\n",
      "dtype: int64\n"
     ]
    }
   ],
   "source": [
    "print(df_semester1.isnull().sum())\n",
    "print(df_semester2.isnull().sum())\n",
    "print(df_semester3.isnull().sum())\n",
    "print(df_semester4.isnull().sum())"
   ]
  },
  {
   "cell_type": "markdown",
   "id": "b6230eeb-cd53-4ed4-a8e9-bac68406083f",
   "metadata": {},
   "source": [
    "### Check the sold_quantity,returned_quantity,damaged_quantity Columns"
   ]
  },
  {
   "cell_type": "code",
   "execution_count": 8,
   "id": "f012d580-957c-43d4-8e7a-08cf19278b50",
   "metadata": {},
   "outputs": [
    {
     "name": "stdout",
     "output_type": "stream",
     "text": [
      "sold_quantity\n",
      "NaN        213\n",
      "unknown    139\n",
      "3006         7\n",
      "3191         6\n",
      "3502         5\n",
      "          ... \n",
      "11421        1\n",
      "2884         1\n",
      "5285         1\n",
      "3170         1\n",
      "8138         1\n",
      "Name: count, Length: 1748, dtype: int64\n",
      "sold_quantity\n",
      "NaN        253\n",
      "unknown    134\n",
      "3143         8\n",
      "3136         5\n",
      "3547         5\n",
      "          ... \n",
      "3247         1\n",
      "2610         1\n",
      "34679        1\n",
      "30973        1\n",
      "21282        1\n",
      "Name: count, Length: 1720, dtype: int64\n",
      "sold_quantity\n",
      "NaN        224\n",
      "unknown    105\n",
      "3120         6\n",
      "3400         6\n",
      "3223         5\n",
      "          ... \n",
      "3272         1\n",
      "85803        1\n",
      "18552        1\n",
      "17770        1\n",
      "2971         1\n",
      "Name: count, Length: 1761, dtype: int64\n",
      "sold_quantity\n",
      "NaN        218\n",
      "unknown    124\n",
      "3390         5\n",
      "3309         5\n",
      "3528         5\n",
      "          ... \n",
      "16234        1\n",
      "3260         1\n",
      "24650        1\n",
      "49698        1\n",
      "18843        1\n",
      "Name: count, Length: 1721, dtype: int64\n"
     ]
    }
   ],
   "source": [
    "print(df_semester1[\"sold_quantity\"].value_counts(dropna=False))\n",
    "print(df_semester2[\"sold_quantity\"].value_counts(dropna=False))\n",
    "print(df_semester3[\"sold_quantity\"].value_counts(dropna=False))\n",
    "print(df_semester4[\"sold_quantity\"].value_counts(dropna=False))"
   ]
  },
  {
   "cell_type": "code",
   "execution_count": 9,
   "id": "62f01ee9-af19-4374-8257-7da53fb7ffbc",
   "metadata": {},
   "outputs": [
    {
     "name": "stdout",
     "output_type": "stream",
     "text": [
      "returned_quantity\n",
      "NaN        185\n",
      "unknown     82\n",
      "25          11\n",
      "221         10\n",
      "156         10\n",
      "          ... \n",
      "664          1\n",
      "991          1\n",
      "4152         1\n",
      "23556        1\n",
      "234          1\n",
      "Name: count, Length: 1039, dtype: int64\n",
      "returned_quantity\n",
      "NaN        151\n",
      "unknown     66\n",
      "260         12\n",
      "169         11\n",
      "165         11\n",
      "          ... \n",
      "900          1\n",
      "495          1\n",
      "2657         1\n",
      "2061         1\n",
      "17           1\n",
      "Name: count, Length: 1038, dtype: int64\n",
      "returned_quantity\n",
      "NaN        167\n",
      "unknown     48\n",
      "128         10\n",
      "132         10\n",
      "278          9\n",
      "          ... \n",
      "1035         1\n",
      "1003         1\n",
      "2060         1\n",
      "761          1\n",
      "1385         1\n",
      "Name: count, Length: 1074, dtype: int64\n",
      "returned_quantity\n",
      "NaN        159\n",
      "unknown     64\n",
      "33          14\n",
      "144         13\n",
      "197          9\n",
      "          ... \n",
      "1684         1\n",
      "1857         1\n",
      "3431         1\n",
      "821          1\n",
      "942          1\n",
      "Name: count, Length: 1031, dtype: int64\n"
     ]
    }
   ],
   "source": [
    "print(df_semester1[\"returned_quantity\"].value_counts(dropna=False))\n",
    "print(df_semester2[\"returned_quantity\"].value_counts(dropna=False))\n",
    "print(df_semester3[\"returned_quantity\"].value_counts(dropna=False))\n",
    "print(df_semester4[\"returned_quantity\"].value_counts(dropna=False))"
   ]
  },
  {
   "cell_type": "code",
   "execution_count": 10,
   "id": "debf6423-5207-4409-9f46-8e7f902e1bb8",
   "metadata": {},
   "outputs": [
    {
     "name": "stdout",
     "output_type": "stream",
     "text": [
      "damaged_quantity\n",
      "NaN        201\n",
      "unknown    109\n",
      "            22\n",
      "280          8\n",
      "79           8\n",
      "          ... \n",
      "2404         1\n",
      "815          1\n",
      "454          1\n",
      "293          1\n",
      "1028         1\n",
      "Name: count, Length: 1293, dtype: int64\n",
      "damaged_quantity\n",
      "NaN        209\n",
      "unknown    115\n",
      "            19\n",
      "576          7\n",
      "590          7\n",
      "          ... \n",
      "2275         1\n",
      "6986         1\n",
      "2295         1\n",
      "991          1\n",
      "870          1\n",
      "Name: count, Length: 1317, dtype: int64\n",
      "damaged_quantity\n",
      "NaN        202\n",
      "unknown    105\n",
      "            21\n",
      "183          7\n",
      "253          7\n",
      "          ... \n",
      "896          1\n",
      "1731         1\n",
      "3313         1\n",
      "3499         1\n",
      "6594         1\n",
      "Name: count, Length: 1352, dtype: int64\n",
      "damaged_quantity\n",
      "NaN        218\n",
      "unknown    117\n",
      "            25\n",
      "398          9\n",
      "132          8\n",
      "          ... \n",
      "2109         1\n",
      "4059         1\n",
      "4058         1\n",
      "1015         1\n",
      "325          1\n",
      "Name: count, Length: 1296, dtype: int64\n"
     ]
    }
   ],
   "source": [
    "print(df_semester1[\"damaged_quantity\"].value_counts(dropna=False))\n",
    "print(df_semester2[\"damaged_quantity\"].value_counts(dropna=False))\n",
    "print(df_semester3[\"damaged_quantity\"].value_counts(dropna=False))\n",
    "print(df_semester4[\"damaged_quantity\"].value_counts(dropna=False))"
   ]
  },
  {
   "cell_type": "markdown",
   "id": "9bfff6bc-88e3-4e15-835f-08047eb312fb",
   "metadata": {},
   "source": [
    "### Replace \"unknown\" with NaN"
   ]
  },
  {
   "cell_type": "code",
   "execution_count": 11,
   "id": "396121cc-c0b8-44e7-b56a-fa1a527a9501",
   "metadata": {},
   "outputs": [],
   "source": [
    "df_semester1[[\"sold_quantity\", \"returned_quantity\", \"damaged_quantity\"]] = df_semester1[[\"sold_quantity\", \"returned_quantity\", \"damaged_quantity\"]].replace([\"unknown\",\" \",0], np.nan)\n",
    "df_semester2[[\"sold_quantity\", \"returned_quantity\", \"damaged_quantity\"]] = df_semester2[[\"sold_quantity\", \"returned_quantity\", \"damaged_quantity\"]].replace([\"unknown\",\" \",0], np.nan)\n",
    "df_semester3[[\"sold_quantity\", \"returned_quantity\", \"damaged_quantity\"]] = df_semester3[[\"sold_quantity\", \"returned_quantity\", \"damaged_quantity\"]].replace([\"unknown\",\" \",0], np.nan)\n",
    "df_semester4[[\"sold_quantity\", \"returned_quantity\", \"damaged_quantity\"]] = df_semester4[[\"sold_quantity\", \"returned_quantity\", \"damaged_quantity\"]].replace([\"unknown\",\" \",0], np.nan)"
   ]
  },
  {
   "cell_type": "code",
   "execution_count": 12,
   "id": "1cc08575-74bc-483e-b739-e062a24c3976",
   "metadata": {},
   "outputs": [
    {
     "name": "stdout",
     "output_type": "stream",
     "text": [
      "sold_quantity\n",
      "NaN       352\n",
      "3006        7\n",
      "3191        6\n",
      "3407        5\n",
      "3502        5\n",
      "         ... \n",
      "118256      1\n",
      "5285        1\n",
      "2884        1\n",
      "11421       1\n",
      "3078        1\n",
      "Name: count, Length: 1747, dtype: int64\n",
      "sold_quantity\n",
      "NaN      387\n",
      "3143       8\n",
      "3547       5\n",
      "3136       5\n",
      "3540       4\n",
      "        ... \n",
      "3247       1\n",
      "2610       1\n",
      "34679      1\n",
      "30973      1\n",
      "10023      1\n",
      "Name: count, Length: 1719, dtype: int64\n",
      "sold_quantity\n",
      "NaN     329\n",
      "3400      6\n",
      "3120      6\n",
      "3223      5\n",
      "3360      5\n",
      "       ... \n",
      "3225      1\n",
      "2916      1\n",
      "8685      1\n",
      "2912      1\n",
      "3617      1\n",
      "Name: count, Length: 1760, dtype: int64\n",
      "sold_quantity\n",
      "NaN      342\n",
      "3390       5\n",
      "3309       5\n",
      "3201       5\n",
      "3312       5\n",
      "        ... \n",
      "5740       1\n",
      "17428      1\n",
      "3473       1\n",
      "2910       1\n",
      "4628       1\n",
      "Name: count, Length: 1720, dtype: int64\n"
     ]
    }
   ],
   "source": [
    "print(df_semester1[\"sold_quantity\"].value_counts(dropna=False))\n",
    "print(df_semester2[\"sold_quantity\"].value_counts(dropna=False))\n",
    "print(df_semester3[\"sold_quantity\"].value_counts(dropna=False))\n",
    "print(df_semester4[\"sold_quantity\"].value_counts(dropna=False))"
   ]
  },
  {
   "cell_type": "code",
   "execution_count": 13,
   "id": "669b0a83-293f-4e25-92c1-e63a148e1c5a",
   "metadata": {},
   "outputs": [
    {
     "name": "stdout",
     "output_type": "stream",
     "text": [
      "returned_quantity\n",
      "NaN     267\n",
      "25       11\n",
      "156      10\n",
      "29       10\n",
      "221      10\n",
      "       ... \n",
      "501       1\n",
      "1130      1\n",
      "1868      1\n",
      "1141      1\n",
      "993       1\n",
      "Name: count, Length: 1038, dtype: int64\n",
      "returned_quantity\n",
      "NaN     217\n",
      "260      12\n",
      "135      11\n",
      "197      11\n",
      "165      11\n",
      "       ... \n",
      "1616      1\n",
      "1184      1\n",
      "900       1\n",
      "5565      1\n",
      "1045      1\n",
      "Name: count, Length: 1037, dtype: int64\n",
      "returned_quantity\n",
      "NaN     215\n",
      "132      10\n",
      "128      10\n",
      "308       9\n",
      "278       9\n",
      "       ... \n",
      "1018      1\n",
      "539       1\n",
      "1845      1\n",
      "3278      1\n",
      "1993      1\n",
      "Name: count, Length: 1073, dtype: int64\n",
      "returned_quantity\n",
      "NaN     223\n",
      "33       14\n",
      "144      13\n",
      "166       9\n",
      "197       9\n",
      "       ... \n",
      "7306      1\n",
      "2223      1\n",
      "2204      1\n",
      "62        1\n",
      "539       1\n",
      "Name: count, Length: 1030, dtype: int64\n"
     ]
    }
   ],
   "source": [
    "print(df_semester1[\"returned_quantity\"].value_counts(dropna=False))\n",
    "print(df_semester2[\"returned_quantity\"].value_counts(dropna=False))\n",
    "print(df_semester3[\"returned_quantity\"].value_counts(dropna=False))\n",
    "print(df_semester4[\"returned_quantity\"].value_counts(dropna=False))"
   ]
  },
  {
   "cell_type": "code",
   "execution_count": 14,
   "id": "c8b5585f-7fff-43c9-ad3d-e1698842bec5",
   "metadata": {},
   "outputs": [
    {
     "name": "stdout",
     "output_type": "stream",
     "text": [
      "damaged_quantity\n",
      "NaN      332\n",
      "280        8\n",
      "79         8\n",
      "126        7\n",
      "260        7\n",
      "        ... \n",
      "815        1\n",
      "2772       1\n",
      "1513       1\n",
      "17423      1\n",
      "3325       1\n",
      "Name: count, Length: 1291, dtype: int64\n",
      "damaged_quantity\n",
      "NaN     343\n",
      "225       7\n",
      "492       7\n",
      "576       7\n",
      "590       7\n",
      "       ... \n",
      "319       1\n",
      "569       1\n",
      "228       1\n",
      "137       1\n",
      "9248      1\n",
      "Name: count, Length: 1315, dtype: int64\n",
      "damaged_quantity\n",
      "NaN     328\n",
      "253       7\n",
      "603       7\n",
      "258       7\n",
      "183       7\n",
      "       ... \n",
      "857       1\n",
      "1419      1\n",
      "3313      1\n",
      "3499      1\n",
      "6594      1\n",
      "Name: count, Length: 1350, dtype: int64\n",
      "damaged_quantity\n",
      "NaN     360\n",
      "398       9\n",
      "299       8\n",
      "132       8\n",
      "184       7\n",
      "       ... \n",
      "222       1\n",
      "4443      1\n",
      "325       1\n",
      "1015      1\n",
      "4058      1\n",
      "Name: count, Length: 1294, dtype: int64\n"
     ]
    }
   ],
   "source": [
    "print(df_semester1[\"damaged_quantity\"].value_counts(dropna=False))\n",
    "print(df_semester2[\"damaged_quantity\"].value_counts(dropna=False))\n",
    "print(df_semester3[\"damaged_quantity\"].value_counts(dropna=False))\n",
    "print(df_semester4[\"damaged_quantity\"].value_counts(dropna=False))"
   ]
  },
  {
   "cell_type": "markdown",
   "id": "967420f9-2f84-4b46-a1ee-2e554c6170df",
   "metadata": {},
   "source": [
    "### Replace the Nan with the average of the semester * The production_quantity"
   ]
  },
  {
   "cell_type": "code",
   "execution_count": 15,
   "id": "7f12b1ac-5d4c-4810-8923-d4f09f33a791",
   "metadata": {},
   "outputs": [
    {
     "name": "stdout",
     "output_type": "stream",
     "text": [
      "sold_quantity\n",
      "3006     7\n",
      "3191     6\n",
      "2928     6\n",
      "3502     5\n",
      "3278     5\n",
      "        ..\n",
      "10607    1\n",
      "4762     1\n",
      "29135    1\n",
      "3910     1\n",
      "3799     1\n",
      "Name: count, Length: 2019, dtype: int64\n",
      "sold_quantity\n",
      "3143     8\n",
      "3136     5\n",
      "3207     5\n",
      "3547     5\n",
      "3209     5\n",
      "        ..\n",
      "8779     1\n",
      "18208    1\n",
      "93911    1\n",
      "3683     1\n",
      "11096    1\n",
      "Name: count, Length: 1999, dtype: int64\n",
      "sold_quantity\n",
      "2947     6\n",
      "3400     6\n",
      "3120     6\n",
      "3718     5\n",
      "3427     5\n",
      "        ..\n",
      "15570    1\n",
      "29377    1\n",
      "3924     1\n",
      "19244    1\n",
      "13293    1\n",
      "Name: count, Length: 1998, dtype: int64\n",
      "sold_quantity\n",
      "3315     5\n",
      "3066     5\n",
      "3201     5\n",
      "3528     5\n",
      "3348     5\n",
      "        ..\n",
      "2929     1\n",
      "17428    1\n",
      "5740     1\n",
      "3539     1\n",
      "10670    1\n",
      "Name: count, Length: 1959, dtype: int64\n"
     ]
    }
   ],
   "source": [
    "import numpy as np\n",
    "import pandas as pd\n",
    "\n",
    "# Assuming your data is loaded into the variables df_semester1, df_semester2, df_semester3, df_semester4\n",
    "\n",
    "# Columns to be filled\n",
    "columns_to_fill = ['sold_quantity', 'returned_quantity', 'damaged_quantity']\n",
    "\n",
    "for col in columns_to_fill:\n",
    "    for semester_df in [df_semester1, df_semester2, df_semester3, df_semester4]:\n",
    "        # Ensure 'production_quantity' and the current column are numeric\n",
    "        semester_df['production_quantity'] = pd.to_numeric(semester_df['production_quantity'], errors='coerce')\n",
    "        semester_df[col] = pd.to_numeric(semester_df[col], errors='coerce')\n",
    "\n",
    "        # Compute the mean ratio before replacing values\n",
    "        ratio_mean = (semester_df[col] / semester_df['production_quantity']).mean(skipna=True)\n",
    "        \n",
    "        # Check for any zero production quantity to avoid division by zero\n",
    "        if np.any(semester_df['production_quantity'] == 0):\n",
    "            print(f\"Warning: Zero production quantities found in {col} for semester.\")\n",
    "\n",
    "        # Replace NaN and 0 values with the computed ratio\n",
    "        mask = (semester_df[col].isna()) | (semester_df[col] == 0)\n",
    "        semester_df.loc[mask, col] = (\n",
    "            (semester_df.loc[mask, 'production_quantity'] * ratio_mean).astype(int)\n",
    "        )\n",
    "\n",
    "        # Convert to integer after all replacements (if necessary)\n",
    "        semester_df[col] = semester_df[col].astype(int)\n",
    "\n",
    "# Checking value counts for each semester\n",
    "print(df_semester1[\"sold_quantity\"].value_counts(dropna=False))\n",
    "print(df_semester2[\"sold_quantity\"].value_counts(dropna=False))\n",
    "print(df_semester3[\"sold_quantity\"].value_counts(dropna=False))\n",
    "print(df_semester4[\"sold_quantity\"].value_counts(dropna=False))\n"
   ]
  },
  {
   "cell_type": "code",
   "execution_count": 16,
   "id": "193afb25-aba5-4a54-9c49-279a2c8aefff",
   "metadata": {},
   "outputs": [
    {
     "name": "stdout",
     "output_type": "stream",
     "text": [
      "Series([], Name: product_id, dtype: int64)\n",
      "Series([], Name: product_id, dtype: int64)\n",
      "Series([], Name: product_id, dtype: int64)\n",
      "Series([], Name: product_id, dtype: int64)\n"
     ]
    }
   ],
   "source": [
    "print(df_semester1[df_semester1['production_quantity'] < (df_semester1['damaged_quantity'] + df_semester1['returned_quantity'] + df_semester1['sold_quantity'])][\"product_id\"])\n",
    "print(df_semester2[df_semester2['production_quantity'] < (df_semester2['damaged_quantity'] + df_semester2['returned_quantity'] + df_semester2['sold_quantity'])][\"product_id\"])\n",
    "print(df_semester3[df_semester3['production_quantity'] < (df_semester3['damaged_quantity'] + df_semester3['returned_quantity'] + df_semester3['sold_quantity'])][\"product_id\"])\n",
    "print(df_semester4[df_semester4['production_quantity'] < (df_semester4['damaged_quantity'] + df_semester4['returned_quantity'] + df_semester4['sold_quantity'])][\"product_id\"])\n"
   ]
  },
  {
   "cell_type": "markdown",
   "id": "8fda131c-2615-4240-ba47-8ca0dd0617b3",
   "metadata": {},
   "source": [
    "### Merge The Data Frames"
   ]
  },
  {
   "cell_type": "code",
   "execution_count": 17,
   "id": "38e89a27-4ec5-43e1-abb1-cbff2225dfcd",
   "metadata": {},
   "outputs": [],
   "source": [
    "df=pd.concat([df_semester1, df_semester2, df_semester3, df_semester4], axis=0)"
   ]
  },
  {
   "cell_type": "markdown",
   "id": "994f327b-c3ae-4d52-ba04-bbc54789382f",
   "metadata": {},
   "source": [
    "### Create unsold product column"
   ]
  },
  {
   "cell_type": "code",
   "execution_count": 18,
   "id": "6e9c533c-d82b-45b3-b48d-742736a71bfb",
   "metadata": {},
   "outputs": [],
   "source": [
    "df['unsold_quantity'] = df['production_quantity'] - (df['damaged_quantity'] + df['returned_quantity'] + df['sold_quantity'])"
   ]
  },
  {
   "cell_type": "markdown",
   "id": "a42980c9-38a4-40bc-927a-297b82c8368e",
   "metadata": {},
   "source": [
    "### Check the new column"
   ]
  },
  {
   "cell_type": "code",
   "execution_count": 19,
   "id": "9b445ef4-b073-45a6-ac9e-805722a18052",
   "metadata": {},
   "outputs": [
    {
     "data": {
      "text/html": [
       "<div>\n",
       "<style scoped>\n",
       "    .dataframe tbody tr th:only-of-type {\n",
       "        vertical-align: middle;\n",
       "    }\n",
       "\n",
       "    .dataframe tbody tr th {\n",
       "        vertical-align: top;\n",
       "    }\n",
       "\n",
       "    .dataframe thead th {\n",
       "        text-align: right;\n",
       "    }\n",
       "</style>\n",
       "<table border=\"1\" class=\"dataframe\">\n",
       "  <thead>\n",
       "    <tr style=\"text-align: right;\">\n",
       "      <th></th>\n",
       "      <th>product_id</th>\n",
       "      <th>product_name</th>\n",
       "      <th>category</th>\n",
       "      <th>weight_g</th>\n",
       "      <th>price</th>\n",
       "      <th>manufacturing_date</th>\n",
       "      <th>expiry_date</th>\n",
       "      <th>production_quantity</th>\n",
       "      <th>sold_quantity</th>\n",
       "      <th>returned_quantity</th>\n",
       "      <th>damaged_quantity</th>\n",
       "      <th>unsold_quantity</th>\n",
       "    </tr>\n",
       "  </thead>\n",
       "  <tbody>\n",
       "    <tr>\n",
       "      <th>0</th>\n",
       "      <td>1</td>\n",
       "      <td>Yaourt Aromatisé Fraise 100g</td>\n",
       "      <td>Yaourt Aromatisé</td>\n",
       "      <td>100</td>\n",
       "      <td>0.54</td>\n",
       "      <td>1/1/2024</td>\n",
       "      <td>1/31/2024</td>\n",
       "      <td>27334</td>\n",
       "      <td>21473</td>\n",
       "      <td>1581</td>\n",
       "      <td>3325</td>\n",
       "      <td>955</td>\n",
       "    </tr>\n",
       "    <tr>\n",
       "      <th>1</th>\n",
       "      <td>2</td>\n",
       "      <td>Yaourt Aromatisé Banane 100g</td>\n",
       "      <td>Yaourt Aromatisé</td>\n",
       "      <td>100</td>\n",
       "      <td>0.54</td>\n",
       "      <td>1/1/2024</td>\n",
       "      <td>1/31/2024</td>\n",
       "      <td>97708</td>\n",
       "      <td>70302</td>\n",
       "      <td>8269</td>\n",
       "      <td>17423</td>\n",
       "      <td>1714</td>\n",
       "    </tr>\n",
       "    <tr>\n",
       "      <th>2</th>\n",
       "      <td>3</td>\n",
       "      <td>Yaourt Aromatisé Vanille 100g</td>\n",
       "      <td>Yaourt Aromatisé</td>\n",
       "      <td>100</td>\n",
       "      <td>0.54</td>\n",
       "      <td>1/1/2024</td>\n",
       "      <td>1/31/2024</td>\n",
       "      <td>22590</td>\n",
       "      <td>18523</td>\n",
       "      <td>993</td>\n",
       "      <td>1513</td>\n",
       "      <td>1561</td>\n",
       "    </tr>\n",
       "    <tr>\n",
       "      <th>3</th>\n",
       "      <td>4</td>\n",
       "      <td>Yaourt Aromatisé Noix de coco 100g</td>\n",
       "      <td>Yaourt Aromatisé</td>\n",
       "      <td>100</td>\n",
       "      <td>0.54</td>\n",
       "      <td>1/1/2024</td>\n",
       "      <td>1/31/2024</td>\n",
       "      <td>24547</td>\n",
       "      <td>17087</td>\n",
       "      <td>1079</td>\n",
       "      <td>2772</td>\n",
       "      <td>3609</td>\n",
       "    </tr>\n",
       "    <tr>\n",
       "      <th>4</th>\n",
       "      <td>5</td>\n",
       "      <td>Yaourt aux Fruits Pêche Abricot 100g</td>\n",
       "      <td>Yaourt aux Fruits</td>\n",
       "      <td>100</td>\n",
       "      <td>0.84</td>\n",
       "      <td>1/1/2024</td>\n",
       "      <td>1/31/2024</td>\n",
       "      <td>44527</td>\n",
       "      <td>34933</td>\n",
       "      <td>2880</td>\n",
       "      <td>6110</td>\n",
       "      <td>604</td>\n",
       "    </tr>\n",
       "  </tbody>\n",
       "</table>\n",
       "</div>"
      ],
      "text/plain": [
       "   product_id                          product_name           category  \\\n",
       "0           1          Yaourt Aromatisé Fraise 100g   Yaourt Aromatisé   \n",
       "1           2          Yaourt Aromatisé Banane 100g   Yaourt Aromatisé   \n",
       "2           3         Yaourt Aromatisé Vanille 100g   Yaourt Aromatisé   \n",
       "3           4    Yaourt Aromatisé Noix de coco 100g   Yaourt Aromatisé   \n",
       "4           5  Yaourt aux Fruits Pêche Abricot 100g  Yaourt aux Fruits   \n",
       "\n",
       "   weight_g price manufacturing_date expiry_date  production_quantity  \\\n",
       "0       100  0.54           1/1/2024   1/31/2024                27334   \n",
       "1       100  0.54           1/1/2024   1/31/2024                97708   \n",
       "2       100  0.54           1/1/2024   1/31/2024                22590   \n",
       "3       100  0.54           1/1/2024   1/31/2024                24547   \n",
       "4       100  0.84           1/1/2024   1/31/2024                44527   \n",
       "\n",
       "   sold_quantity  returned_quantity  damaged_quantity  unsold_quantity  \n",
       "0          21473               1581              3325              955  \n",
       "1          70302               8269             17423             1714  \n",
       "2          18523                993              1513             1561  \n",
       "3          17087               1079              2772             3609  \n",
       "4          34933               2880              6110              604  "
      ]
     },
     "execution_count": 19,
     "metadata": {},
     "output_type": "execute_result"
    }
   ],
   "source": [
    "df.head()"
   ]
  },
  {
   "cell_type": "markdown",
   "id": "7dda35e8-2839-418a-971b-64de8c44c5fd",
   "metadata": {},
   "source": [
    "### Check the \"product_name\" values"
   ]
  },
  {
   "cell_type": "code",
   "execution_count": 20,
   "id": "e0bdd7f9-4385-48b3-800f-f46e0a34a0a8",
   "metadata": {},
   "outputs": [
    {
     "data": {
      "text/plain": [
       "product_name\n",
       "Grecos Fraise                                 395\n",
       "Bifi Aromatisé Citron 0% 100g                 394\n",
       "Yaourt aux Fruits Mixés Fraise 100g           393\n",
       "Vitupti Fraise 100g                           389\n",
       "Yaourt Nature 100g                            388\n",
       "Yaourt aux Fruits Secs 100g                   388\n",
       "Yaourt aux Fruits cerise et framboise 100g    387\n",
       "Yaourt Brassé Biscuit-Vanille 70g             387\n",
       "Grécos                                        386\n",
       "Yaourt Brassé Pistache 70g                    385\n",
       "Yaourt Brassé Tutti Frutti 70g                385\n",
       "Grecos Nature Sucré                           384\n",
       "Vitupti Vanille 100g                          384\n",
       "Yaourt Brassé Vanille 70g                     383\n",
       "Yaourt aux Fruits Pêche Abricot 100g          383\n",
       "Yaourt aux Fruits Mixés Mangue 100g           382\n",
       "Yaourt Brassé Fraise Banane 70g               379\n",
       "Vit'up Max Vanille 260g                       348\n",
       "Vit'up Max Fraise 260g                        347\n",
       "Vit'up Fraise 160g                            342\n",
       "Vit'up Pinacolada 160g                        341\n",
       "Vit'up Vanille 160g                           341\n",
       "Vit'up Pinacolada 260g                        341\n",
       "Yaourt Aromatisé Fraise 100g                  316\n",
       "Yaourt Aromatisé Vanille 100g                 309\n",
       "Yaourt Aromatisé Noix de coco 100g            309\n",
       "Yaourt Aromatisé Banane 100g                  299\n",
       "Yaourt Aromatise Banane 100g                   96\n",
       "Yaourt Aromatise Fraise 100g                   79\n",
       "Yaourt Aromatise Vanille 100g                  74\n",
       "Yaourt Aromatise Noix de coco 100g             72\n",
       "vitup Vanille 160g                             50\n",
       "vitup Max Vanille 260g                         45\n",
       "vitup Pinacolada 160g                          45\n",
       "vitup Pinacolada 260g                          40\n",
       "vitup Fraise 160g                              38\n",
       "vitup Max Fraise 260g                          37\n",
       "Yaourt Brassé Fraise Ba@ane 70g                 1\n",
       "Vit'up Max@Vanille 260g                         1\n",
       "Yaourt aux Fruits Secs @00g                     1\n",
       "Yaourt aux Fruits Mixés Mangue 10@g             1\n",
       "Yaou@t aux Fruits Pêche Abricot 100g            1\n",
       "Yaourt Brassé @iscuit-Vanille 70g               1\n",
       "Yaourt Aromatisé@Vanille 100g                   1\n",
       "Grecos Nature Su@ré                             1\n",
       "Vitupti Frais@ 100g                             1\n",
       "Yaourt aux Fruits Pêche Abricot 10@g            1\n",
       "Name: count, dtype: int64"
      ]
     },
     "execution_count": 20,
     "metadata": {},
     "output_type": "execute_result"
    }
   ],
   "source": [
    "df[\"product_name\"].value_counts()"
   ]
  },
  {
   "cell_type": "markdown",
   "id": "b9a79dfc-0bb9-49f7-be15-597c830c273f",
   "metadata": {},
   "source": [
    "### Fix incorrect Syntax "
   ]
  },
  {
   "cell_type": "code",
   "execution_count": 21,
   "id": "dcd05a1a-55e2-4b71-b7c9-8280d1bd7357",
   "metadata": {},
   "outputs": [],
   "source": [
    "corrections = {\n",
    "    \"Yaourt Brassé Fraise Ba@ane 70g\": \"Yaourt Brassé Fraise Banane 70g\",\n",
    "    \"Vit'up Max@Vanille 260g\": \"Vit'up Max Vanille 260g\",\n",
    "    \"Yaourt aux Fruits Secs @00g\": \"Yaourt aux Fruits Secs 100g\",\n",
    "    \"Yaourt aux Fruits Mixés Mangue 10@g\": \"Yaourt aux Fruits Mixés Mangue 100g\",\n",
    "    \"Yaou@t aux Fruits Pêche Abricot 100g\": \"Yaourt aux Fruits Pêche Abricot 100g\",\n",
    "    \"Yaourt Brassé @iscuit-Vanille 70g\": \"Yaourt Brassé Biscuit-Vanille 70g\",\n",
    "    \"Yaourt Aromatisé@Vanille 100g\": \"Yaourt Aromatisé Vanille 100g\",\n",
    "    \"Grecos Nature Su@ré\": \"Grecos Nature Sucré\",\n",
    "    \"Vitupti Frais@ 100g\": \"Vitupti Fraise 100g\",\n",
    "    \"Yaourt aux Fruits Pêche Abricot 10@g\": \"Yaourt aux Fruits Pêche Abricot 100g\",\n",
    "    \"Yaourt Aromatise Fraise 100g\": \"Yaourt Aromatisé Fraise 100g\",\n",
    "    \"Yaourt Aromatise Vanille 100g\": \"Yaourt Aromatisé Vanille 100g\",\n",
    "    \"Yaourt Aromatise Noix de coco 100g\": \"Yaourt Aromatisé Noix de coco 100g\",\n",
    "    \"Yaourt Aromatise Banane 100g\": \"Yaourt Aromatisé Banane 100g\",\n",
    "    \"vitup Vanille 160g\": \"Vit'up Vanille 160g\",\n",
    "    \"vitup Max Vanille 260g\": \"Vit'up Max Vanille 260g\",\n",
    "    \"vitup Pinacolada 160g\": \"Vit'up Pinacolada 160g\",\n",
    "    \"vitup Pinacolada 260g\": \"Vit'up Pinacolada 260g\",\n",
    "    \"vitup Fraise 160g\": \"Vit'up Fraise 160g\",\n",
    "    \"vitup Max Fraise 260g\": \"Vit'up Max Fraise 260g\"\n",
    "}\n",
    "df[\"product_name\"] = df[\"product_name\"].replace(corrections)\n"
   ]
  },
  {
   "cell_type": "code",
   "execution_count": 22,
   "id": "60a05e41-738e-4427-8959-d14f71a18dba",
   "metadata": {},
   "outputs": [
    {
     "data": {
      "text/plain": [
       "product_name\n",
       "Yaourt Aromatisé Fraise 100g                  395\n",
       "Yaourt Aromatisé Banane 100g                  395\n",
       "Grecos Fraise                                 395\n",
       "Vit'up Max Vanille 260g                       394\n",
       "Bifi Aromatisé Citron 0% 100g                 394\n",
       "Yaourt aux Fruits Mixés Fraise 100g           393\n",
       "Vit'up Vanille 160g                           391\n",
       "Vitupti Fraise 100g                           390\n",
       "Yaourt aux Fruits Secs 100g                   389\n",
       "Yaourt Brassé Biscuit-Vanille 70g             388\n",
       "Yaourt Nature 100g                            388\n",
       "Yaourt aux Fruits cerise et framboise 100g    387\n",
       "Vit'up Pinacolada 160g                        386\n",
       "Grécos                                        386\n",
       "Yaourt Brassé Tutti Frutti 70g                385\n",
       "Grecos Nature Sucré                           385\n",
       "Yaourt Brassé Pistache 70g                    385\n",
       "Yaourt aux Fruits Pêche Abricot 100g          385\n",
       "Yaourt Aromatisé Vanille 100g                 384\n",
       "Vitupti Vanille 100g                          384\n",
       "Vit'up Max Fraise 260g                        384\n",
       "Yaourt aux Fruits Mixés Mangue 100g           383\n",
       "Yaourt Brassé Vanille 70g                     383\n",
       "Yaourt Aromatisé Noix de coco 100g            381\n",
       "Vit'up Pinacolada 260g                        381\n",
       "Yaourt Brassé Fraise Banane 70g               380\n",
       "Vit'up Fraise 160g                            380\n",
       "Name: count, dtype: int64"
      ]
     },
     "execution_count": 22,
     "metadata": {},
     "output_type": "execute_result"
    }
   ],
   "source": [
    "df[\"product_name\"].value_counts()"
   ]
  },
  {
   "cell_type": "markdown",
   "id": "af94a5a1-238e-4395-89d2-e97ea23d340f",
   "metadata": {},
   "source": [
    "### Remove Erroneous Values"
   ]
  },
  {
   "cell_type": "code",
   "execution_count": 54,
   "id": "2350e6b8-66b5-4277-bbcf-8146870f124b",
   "metadata": {},
   "outputs": [],
   "source": [
    "df=df[df[\"sold_quantity\"]>500000]"
   ]
  },
  {
   "cell_type": "markdown",
   "id": "ff6f6d0d-b9c3-4614-950e-afff1056c3e3",
   "metadata": {},
   "source": [
    "### Check For outliers "
   ]
  },
  {
   "cell_type": "code",
   "execution_count": 55,
   "id": "414ceb5e-5da1-448b-a76b-8c24ca4578e5",
   "metadata": {},
   "outputs": [
    {
     "data": {
      "image/png": "[encoded data removed]",
      "text/plain": [
       "<Figure size 1500x800 with 5 Axes>"
      ]
     },
     "metadata": {},
     "output_type": "display_data"
    },
    {
     "data": {
      "image/png": "[encoded data removed]",
      "text/plain": [
       "<Figure size 1200x600 with 1 Axes>"
      ]
     },
     "metadata": {},
     "output_type": "display_data"
    }
   ],
   "source": [
    "num_cols = [\"sold_quantity\", \"returned_quantity\", \"damaged_quantity\", \"unsold_quantity\", \"production_quantity\"]\n",
    "\n",
    "# Create boxplots and distribution curves for each column\n",
    "plt.figure(figsize=(15, 8))\n",
    "\n",
    "for i, col in enumerate(num_cols, 1):\n",
    "    plt.subplot(2, len(num_cols)//2 + 1, i)  # Create subplots\n",
    "    sns.boxplot(x=df[col], color='skyblue')  # Boxplot for outliers\n",
    "    plt.title(f\"Boxplot of {col}\")\n",
    "\n",
    "plt.tight_layout()\n",
    "plt.show()\n",
    "\n",
    "# Plot KDE (Kernel Density Estimate) curves\n",
    "plt.figure(figsize=(12, 6))\n",
    "for col in num_cols:\n",
    "    sns.kdeplot(df[col], label=col, fill=True)  # KDE Plot (distribution curve)\n",
    "plt.legend()\n",
    "plt.title(\"Distribution Curves for Numerical Columns\")\n",
    "plt.show()"
   ]
  },
  {
   "cell_type": "markdown",
   "id": "59ab28d1-5717-41f0-b737-cd2bec4fc0cf",
   "metadata": {},
   "source": [
    "### Remove Outliers "
   ]
  },
  {
   "cell_type": "code",
   "execution_count": 53,
   "id": "bb4c4ee2-2d86-4a23-876d-8532b8813e46",
   "metadata": {},
   "outputs": [],
   "source": [
    "def remove_outliers_iqr(df, columns):\n",
    "    for col in columns:\n",
    "        Q1 = df[col].quantile(0.25)  # 25th percentile\n",
    "        Q3 = df[col].quantile(0.75)  # 75th percentile\n",
    "        IQR = Q3 - Q1  # Interquartile range\n",
    "        lower_bound = Q1 - 1.5 * IQR\n",
    "        upper_bound = Q3 + 1.5 * IQR\n",
    "        \n",
    "        # Remove outliers\n",
    "        df = df[(df[col] >= lower_bound) & (df[col] <= upper_bound)]\n",
    "    \n",
    "    return df\n",
    "\n",
    "# Apply function to remove outliers\n",
    "df_cleaned = remove_outliers_iqr(df, num_cols)\n"
   ]
  },
  {
   "cell_type": "code",
   "execution_count": null,
   "id": "0094f2b6-f4b2-44d0-af67-14995749ea42",
   "metadata": {},
   "outputs": [],
   "source": []
  }
 ],
 "metadata": {
  "kernelspec": {
   "display_name": "Python 3 (ipykernel)",
   "language": "python",
   "name": "python3"
  },
  "language_info": {
   "codemirror_mode": {
    "name": "ipython",
    "version": 3
   },
   "file_extension": ".py",
   "mimetype": "text/x-python",
   "name": "python",
   "nbconvert_exporter": "python",
   "pygments_lexer": "ipython3",
   "version": "3.11.9"
  }
 },
 "nbformat": 4,
 "nbformat_minor": 5
}
